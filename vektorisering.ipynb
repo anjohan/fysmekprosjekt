{
  "nbformat": 4,
  "nbformat_minor": 0,
  "metadata": {
    "colab": {
      "name": "vektorisering.ipynb",
      "version": "0.3.2",
      "provenance": [],
      "collapsed_sections": [],
      "include_colab_link": true
    },
    "kernelspec": {
      "name": "python3",
      "display_name": "Python 3"
    }
  },
  "cells": [
    {
      "cell_type": "markdown",
      "metadata": {
        "id": "view-in-github",
        "colab_type": "text"
      },
      "source": [
        "<a href=\"https://colab.research.google.com/github/uio-fys-mek/md-prosjekt/blob/master/vektorisering.ipynb\" target=\"_parent\"><img src=\"https://colab.research.google.com/assets/colab-badge.svg\" alt=\"Open In Colab\"/></a>"
      ]
    },
    {
      "metadata": {
        "id": "J-vsaCRLOB7j",
        "colab_type": "code",
        "colab": {}
      },
      "cell_type": "code",
      "source": [
        "import numpy as np"
      ],
      "execution_count": 0,
      "outputs": []
    },
    {
      "metadata": {
        "id": "ujxTxRySLl1C",
        "colab_type": "text"
      },
      "cell_type": "markdown",
      "source": [
        "# Vektorisering"
      ]
    },
    {
      "metadata": {
        "id": "3WeHrLwoM0AN",
        "colab_type": "text"
      },
      "cell_type": "markdown",
      "source": [
        "Når vi snakker om *vektorisering* i Python mener vi egentlig å utnytte funksjonaliteter og vektoroperasjoner i Python-pakken `numpy`. Numpy er en pakke som er skrevet i C/C++ og delvis Fortran - lavnivåspråk som generelt er mye raskere enn høynivåspråk som f.eks. Python. Dette gjør seg virkelig gjeldende i essensielle funksjonaliteter som for- og while-løkker. For eksempel vil en for-løkke i C/C++ gå 100 ganger (!) raskere enn en for-løkke i Python."
      ]
    },
    {
      "metadata": {
        "id": "9yF6pa0QNeoC",
        "colab_type": "text"
      },
      "cell_type": "markdown",
      "source": [
        "## Enkelt eksempel\n",
        "Det som er fint med numpy-biblioteket er at vektoroperasjoner som gjøres på numpy-arrays vil kalle på funksjonaliteter skrevet i nettopp disse lavnivå språkene. På denne måten drar man fordelene av hastighetene til disse, samtidig som man beholder en ren og kort python-syntax. Dette lar oss tilsynelatende gjøre operasjoner på *hele arrays* om gangen i python-scriptene våre.\n",
        "\n",
        "Enkelt eksempel:\n"
      ]
    },
    {
      "metadata": {
        "id": "2jr2SF_mOTdk",
        "colab_type": "code",
        "outputId": "a21b9a70-ba44-4a77-f02d-d7d2704ea0de",
        "colab": {
          "base_uri": "https://localhost:8080/",
          "height": 35
        }
      },
      "cell_type": "code",
      "source": [
        "a = np.array([1,2,3])\n",
        "b = np.array([1,1,1])\n",
        "c = a - b\n",
        "c"
      ],
      "execution_count": 68,
      "outputs": [
        {
          "output_type": "execute_result",
          "data": {
            "text/plain": [
              "array([0, 1, 2])"
            ]
          },
          "metadata": {
            "tags": []
          },
          "execution_count": 68
        }
      ]
    },
    {
      "metadata": {
        "id": "1O2XA2t6OdgL",
        "colab_type": "text"
      },
      "cell_type": "markdown",
      "source": [
        "Dette oversettes til C/Fortran-kode som tilsvarer"
      ]
    },
    {
      "metadata": {
        "id": "NLd_P8enOhML",
        "colab_type": "code",
        "outputId": "c61c8b63-533e-422b-b82e-43524922ec90",
        "colab": {
          "base_uri": "https://localhost:8080/",
          "height": 35
        }
      },
      "cell_type": "code",
      "source": [
        "c = np.zeros_like(a)\n",
        "for i in range(len(c)):\n",
        "    c[i] = a[i] - b[i]\n",
        "c"
      ],
      "execution_count": 69,
      "outputs": [
        {
          "output_type": "execute_result",
          "data": {
            "text/plain": [
              "array([0, 1, 2])"
            ]
          },
          "metadata": {
            "tags": []
          },
          "execution_count": 69
        }
      ]
    },
    {
      "metadata": {
        "id": "akOu6xtfOyNj",
        "colab_type": "text"
      },
      "cell_type": "markdown",
      "source": [
        "Dette går mye raskere:"
      ]
    },
    {
      "metadata": {
        "id": "acyabaDOO2EE",
        "colab_type": "code",
        "colab": {}
      },
      "cell_type": "code",
      "source": [
        "def dum():\n",
        "    N = int(1E6)\n",
        "    a = np.zeros(N)\n",
        "    b = np.zeros(N)\n",
        "    c = np.zeros(N)\n",
        "    for i in range(N):\n",
        "        a[i] = np.random.uniform()\n",
        "        b[i] = np.random.uniform()\n",
        "        c[i] = a[i] - b[i]\n",
        "\n",
        "def vektorisert():\n",
        "    N = int(1E6)\n",
        "    a = np.random.uniform(size=N)\n",
        "    b = np.random.uniform(size=N)\n",
        "    c = a - b"
      ],
      "execution_count": 0,
      "outputs": []
    },
    {
      "metadata": {
        "id": "H-ZxUP9pParU",
        "colab_type": "code",
        "outputId": "665c4315-da5c-446b-c88f-48273d824994",
        "colab": {
          "base_uri": "https://localhost:8080/",
          "height": 35
        }
      },
      "cell_type": "code",
      "source": [
        "%timeit dum()"
      ],
      "execution_count": 71,
      "outputs": [
        {
          "output_type": "stream",
          "text": [
            "1 loop, best of 3: 2.05 s per loop\n"
          ],
          "name": "stdout"
        }
      ]
    },
    {
      "metadata": {
        "id": "o4H2SpD8Phfs",
        "colab_type": "code",
        "outputId": "a7262e8c-7f38-4155-f881-33dd560ac489",
        "colab": {
          "base_uri": "https://localhost:8080/",
          "height": 35
        }
      },
      "cell_type": "code",
      "source": [
        "%timeit vektorisert()"
      ],
      "execution_count": 72,
      "outputs": [
        {
          "output_type": "stream",
          "text": [
            "10 loops, best of 3: 32.3 ms per loop\n"
          ],
          "name": "stdout"
        }
      ]
    },
    {
      "metadata": {
        "id": "q-KMbT_tQztU",
        "colab_type": "text"
      },
      "cell_type": "markdown",
      "source": [
        "Som vi ser, går den vektoriserte koden mye raskere. I tillegg er koden enklere og mer matematikknær.\n",
        "\n",
        "Moralen er at man alltid bør prøve å erstatte så mange Python-løkker som mulig med vektoriserte numpy-operasjoner."
      ]
    },
    {
      "metadata": {
        "id": "eG5Wwcb8R1c9",
        "colab_type": "text"
      },
      "cell_type": "markdown",
      "source": [
        "## Parvise operasjoner\n",
        "I Grand Challenge må vi finne avstandene mellom hvert eneste atompar for å kunne regne ut summen av kreftene på hvert atom. I eksemplene under viser vi flere måter å sammenligne alle elementene i et array mot hverandre, både delvis og fullt vektorisert. For enkelhets skyld opererer vi på et 1D-array, men metodene kan også lett brukes på arrays med flere dimensjoner.\n",
        "\n",
        "\n",
        "### Enkel tilnærming\n",
        "Hvis posisjonene er lagret i `r` som har dimensjon $N \\times 3 $, hvor $N$ er antallet partikler, vil koden typisk se slik ut:\n",
        "```python\n",
        "for i in range(N-1):\n",
        "    for j in range(i+1, N):\n",
        "        dr = r[j] - r[i]\n",
        "```\n",
        "\n",
        "Dette er den mest \"rett frem\"-måten å sammenligne array'ene på, men også den tregeste. Når antallet iterasjoner per loop ($N$) blir stort, vil bare det å loope gjennom løkkene ta en god del tid. Skal man i tillegg gjøre kompliserte beregninger inne i løkkene kan det være en fordel å ha abonnement hos Netflix. Samtidig er det veldig oversiktlig og enkelt å kun behandle ett element om gangen, hvor man har god kontroll på hva som faktisk skjer. Likevel, \n",
        "\n",
        "\n",
        " - +Lett å forstå hva som skjer.\n",
        " - +Trenger kun ett element i minnet om gangen.\n",
        " - -Kan bli en del kode.\n",
        " - -*Ekstremt* tregt.\n",
        "\n",
        "### Vektorisert utregning\n",
        "Alle avstandsvektorene til naboene til atom $i$ kan regnes ut på én gang med\n",
        "```python\n",
        "for i in range(N):\n",
        "    drs = r - r[i]\n",
        "```\n",
        "og kreftene kan regnes ut fra disse. OBS: `drs[i]` vil være $\\vec{0}$.\n",
        "- +Fjerner én for-løkke.\n",
        "- +Forholdsvis rett frem for flerdimensjonale arrays.\n",
        "- -Fortsatt én for-løkke.\n",
        "\n",
        "### Ekstremvektorisering\n",
        "*Broadcasting* kan brukes til å regne ut avstandene mellom atomene helt uten for-løkker. Se på dette eksemplet:"
      ]
    },
    {
      "metadata": {
        "id": "BoIc1oL5O8uE",
        "colab_type": "code",
        "outputId": "2debae80-ecda-42b2-af7b-6599f23eae57",
        "colab": {
          "base_uri": "https://localhost:8080/",
          "height": 91
        }
      },
      "cell_type": "code",
      "source": [
        "x1 = np.array([1,2,3])\n",
        "x2 = x1.reshape(-1,1)\n",
        "print(x1, \"\\n\", x2)"
      ],
      "execution_count": 73,
      "outputs": [
        {
          "output_type": "stream",
          "text": [
            "[1 2 3] \n",
            " [[1]\n",
            " [2]\n",
            " [3]]\n"
          ],
          "name": "stdout"
        }
      ]
    },
    {
      "metadata": {
        "id": "zdYrNXRzPUPV",
        "colab_type": "code",
        "outputId": "ec9afcf8-fd7e-4ea5-9e1d-4f5eb652f346",
        "colab": {
          "base_uri": "https://localhost:8080/",
          "height": 72
        }
      },
      "cell_type": "code",
      "source": [
        "x1 - x2"
      ],
      "execution_count": 74,
      "outputs": [
        {
          "output_type": "execute_result",
          "data": {
            "text/plain": [
              "array([[ 0,  1,  2],\n",
              "       [-1,  0,  1],\n",
              "       [-2, -1,  0]])"
            ]
          },
          "metadata": {
            "tags": []
          },
          "execution_count": 74
        }
      ]
    },
    {
      "metadata": {
        "id": "ktP0SPtzPWvl",
        "colab_type": "text"
      },
      "cell_type": "markdown",
      "source": [
        "Vi ser at når en kolonevektor trekkes fra en radvektor, blir resultatet en matrise hvor første rad er radvektoren minus første element i kolonnevektoren etc. Dette kan brukes til å regne ut alle innbyrdes avstander, uten en eneste for-løkke.\n",
        "\n",
        "- +Ingen for-løkker.\n",
        "- +Raskest (?).\n",
        "- -Ingen Newtons 3. lov.\n",
        "- -Krever $N^2$ elementer i minnet - begrenser systemstørrelse.\n",
        "- Grisete, lite intuitiv kode."
      ]
    },
    {
      "metadata": {
        "id": "aKaWQAH1IkBr",
        "colab_type": "text"
      },
      "cell_type": "markdown",
      "source": [
        "## Andre alternativer\n",
        "### Numba\n",
        "Numba er en Python-pakke som oversetter Python-kode til LLVM-kode og kompilerer den. Resultatet er at Python-koden kan gå omtrent like raskt som de kompilerte språkene.\n",
        "\n",
        "Eksempel:"
      ]
    },
    {
      "metadata": {
        "id": "oarN2kBtJD6M",
        "colab_type": "code",
        "colab": {}
      },
      "cell_type": "code",
      "source": [
        "import numba\n",
        "\n",
        "@numba.njit\n",
        "def K_numba(v):\n",
        "    K = 0\n",
        "    N = len(v)\n",
        "    for i in range(N):\n",
        "        for j in range(3):\n",
        "            K += v[i,j]**2\n",
        "    return 0.5*K\n",
        "\n",
        "def K_dum(v):\n",
        "    K = 0\n",
        "    N = len(v)\n",
        "    for i in range(N):\n",
        "        for j in range(3):\n",
        "            K += v[i,j]**2\n",
        "    return 0.5*K\n",
        "\n",
        "def K_numpy(v):\n",
        "    return 0.5*np.sum(v**2)"
      ],
      "execution_count": 0,
      "outputs": []
    },
    {
      "metadata": {
        "id": "dIteMBLAJ3LU",
        "colab_type": "code",
        "colab": {}
      },
      "cell_type": "code",
      "source": [
        "N = int(1E7)\n",
        "v = np.random.normal(size=(N,3))"
      ],
      "execution_count": 0,
      "outputs": []
    },
    {
      "metadata": {
        "id": "_r2H3VH8J-c1",
        "colab_type": "code",
        "colab": {
          "base_uri": "https://localhost:8080/",
          "height": 35
        },
        "outputId": "cdc30eda-bfd4-49e4-8238-4dfd3f860b31"
      },
      "cell_type": "code",
      "source": [
        "%timeit K_numba(v)"
      ],
      "execution_count": 77,
      "outputs": [
        {
          "output_type": "stream",
          "text": [
            "10 loops, best of 3: 52.8 ms per loop\n"
          ],
          "name": "stdout"
        }
      ]
    },
    {
      "metadata": {
        "id": "dPiy8hZyKBiE",
        "colab_type": "code",
        "colab": {
          "base_uri": "https://localhost:8080/",
          "height": 35
        },
        "outputId": "32b3b8d9-9928-4840-e056-92b2a337231f"
      },
      "cell_type": "code",
      "source": [
        "%timeit K_dum(v)"
      ],
      "execution_count": 78,
      "outputs": [
        {
          "output_type": "stream",
          "text": [
            "1 loop, best of 3: 16.5 s per loop\n"
          ],
          "name": "stdout"
        }
      ]
    },
    {
      "metadata": {
        "id": "-3k3qb-YL1RG",
        "colab_type": "code",
        "colab": {
          "base_uri": "https://localhost:8080/",
          "height": 35
        },
        "outputId": "569428cc-96b2-4da0-c0e8-82f1c2ab23bc"
      },
      "cell_type": "code",
      "source": [
        "%timeit K_numpy(v)"
      ],
      "execution_count": 79,
      "outputs": [
        {
          "output_type": "stream",
          "text": [
            "10 loops, best of 3: 97.5 ms per loop\n"
          ],
          "name": "stdout"
        }
      ]
    },
    {
      "metadata": {
        "id": "0J5OOeFdMITm",
        "colab_type": "text"
      },
      "cell_type": "markdown",
      "source": [
        "Ved bruk av numba er det viktig å bare bruke tall og numpy-arrayer.  Ved å bruke `njit` (i stedet for `jit`) sjekker numba at dette er oppfylt!"
      ]
    },
    {
      "metadata": {
        "id": "eomZ4vZ9M9lu",
        "colab_type": "text"
      },
      "cell_type": "markdown",
      "source": [
        "### Fortran\n",
        "Det er enkelt å kalle på Fortran-kode som gjør den tyngste delen av utregningen.\n",
        "\n",
        "Gitt følgende fil:"
      ]
    },
    {
      "metadata": {
        "id": "RbUTVvzlNoAX",
        "colab_type": "code",
        "colab": {
          "base_uri": "https://localhost:8080/",
          "height": 35
        },
        "outputId": "27671162-8a30-45f2-b912-bf7ba599603d"
      },
      "cell_type": "code",
      "source": [
        "%%file k_fortran.f90\n",
        "function k_fortran(v, N) result(K)\n",
        "    integer, intent(in) :: N\n",
        "    double precision, intent(in) :: v(N, 3)\n",
        "    double precision :: K\n",
        "    \n",
        "    K = 0.5*sum(v**2)\n",
        "end function"
      ],
      "execution_count": 80,
      "outputs": [
        {
          "output_type": "stream",
          "text": [
            "Overwriting k_fortran.f90\n"
          ],
          "name": "stdout"
        }
      ]
    },
    {
      "metadata": {
        "id": "DscNkNVCOI_A",
        "colab_type": "text"
      },
      "cell_type": "markdown",
      "source": [
        "Denne kan kompileres til en python-modul med terminalkommandoen"
      ]
    },
    {
      "metadata": {
        "id": "1LlYLXGgOP5H",
        "colab_type": "code",
        "colab": {
          "base_uri": "https://localhost:8080/",
          "height": 1588
        },
        "outputId": "a41e77c0-3aaa-43c7-9218-c1f31c37dc3d"
      },
      "cell_type": "code",
      "source": [
        "! f2py3 -c -m fortran_module k_fortran.f90"
      ],
      "execution_count": 81,
      "outputs": [
        {
          "output_type": "stream",
          "text": [
            "\u001b[39mrunning build\u001b[0m\n",
            "\u001b[39mrunning config_cc\u001b[0m\n",
            "\u001b[39munifing config_cc, config, build_clib, build_ext, build commands --compiler options\u001b[0m\n",
            "\u001b[39mrunning config_fc\u001b[0m\n",
            "\u001b[39munifing config_fc, config, build_clib, build_ext, build commands --fcompiler options\u001b[0m\n",
            "\u001b[39mrunning build_src\u001b[0m\n",
            "\u001b[39mbuild_src\u001b[0m\n",
            "\u001b[39mbuilding extension \"fortran_module\" sources\u001b[0m\n",
            "\u001b[39mf2py options: []\u001b[0m\n",
            "\u001b[39mf2py:> /tmp/tmpx8rnz5ou/src.linux-x86_64-3.6/fortran_modulemodule.c\u001b[0m\n",
            "\u001b[39mcreating /tmp/tmpx8rnz5ou/src.linux-x86_64-3.6\u001b[0m\n",
            "Reading fortran codes...\n",
            "\tReading file 'k_fortran.f90' (format:free)\n",
            "Post-processing...\n",
            "\tBlock: fortran_module\n",
            "\t\t\tBlock: k_fortran\n",
            "Post-processing (stage 2)...\n",
            "Building modules...\n",
            "\tBuilding module \"fortran_module\"...\n",
            "\t\tCreating wrapper for Fortran function \"k_fortran\"(\"k_fortran\")...\n",
            "\t\tConstructing wrapper function \"k_fortran\"...\n",
            "\t\t  k = k_fortran(v,[n])\n",
            "\tWrote C/API module \"fortran_module\" to file \"/tmp/tmpx8rnz5ou/src.linux-x86_64-3.6/fortran_modulemodule.c\"\n",
            "\tFortran 77 wrappers are saved to \"/tmp/tmpx8rnz5ou/src.linux-x86_64-3.6/fortran_module-f2pywrappers.f\"\n",
            "\u001b[39m  adding '/tmp/tmpx8rnz5ou/src.linux-x86_64-3.6/fortranobject.c' to sources.\u001b[0m\n",
            "\u001b[39m  adding '/tmp/tmpx8rnz5ou/src.linux-x86_64-3.6' to include_dirs.\u001b[0m\n",
            "\u001b[39mcopying /usr/local/lib/python3.6/dist-packages/numpy/f2py/src/fortranobject.c -> /tmp/tmpx8rnz5ou/src.linux-x86_64-3.6\u001b[0m\n",
            "\u001b[39mcopying /usr/local/lib/python3.6/dist-packages/numpy/f2py/src/fortranobject.h -> /tmp/tmpx8rnz5ou/src.linux-x86_64-3.6\u001b[0m\n",
            "\u001b[39m  adding '/tmp/tmpx8rnz5ou/src.linux-x86_64-3.6/fortran_module-f2pywrappers.f' to sources.\u001b[0m\n",
            "\u001b[39mbuild_src: building npy-pkg config files\u001b[0m\n",
            "\u001b[39mrunning build_ext\u001b[0m\n",
            "\u001b[39mcustomize UnixCCompiler\u001b[0m\n",
            "\u001b[39mcustomize UnixCCompiler using build_ext\u001b[0m\n",
            "\u001b[39mget_default_fcompiler: matching types: '['gnu95', 'intel', 'lahey', 'pg', 'absoft', 'nag', 'vast', 'compaq', 'intele', 'intelem', 'gnu', 'g95', 'pathf95', 'nagfor']'\u001b[0m\n",
            "\u001b[39mcustomize Gnu95FCompiler\u001b[0m\n",
            "\u001b[39mFound executable /usr/bin/gfortran\u001b[0m\n",
            "\u001b[39mcustomize Gnu95FCompiler\u001b[0m\n",
            "\u001b[39mcustomize Gnu95FCompiler using build_ext\u001b[0m\n",
            "\u001b[39mbuilding 'fortran_module' extension\u001b[0m\n",
            "\u001b[39mcompiling C sources\u001b[0m\n",
            "\u001b[39mC compiler: x86_64-linux-gnu-gcc -pthread -DNDEBUG -g -fwrapv -O2 -Wall -g -fstack-protector-strong -Wformat -Werror=format-security -Wdate-time -D_FORTIFY_SOURCE=2 -fPIC\n",
            "\u001b[0m\n",
            "\u001b[39mcreating /tmp/tmpx8rnz5ou/tmp\u001b[0m\n",
            "\u001b[39mcreating /tmp/tmpx8rnz5ou/tmp/tmpx8rnz5ou\u001b[0m\n",
            "\u001b[39mcreating /tmp/tmpx8rnz5ou/tmp/tmpx8rnz5ou/src.linux-x86_64-3.6\u001b[0m\n",
            "\u001b[39mcompile options: '-I/tmp/tmpx8rnz5ou/src.linux-x86_64-3.6 -I/usr/local/lib/python3.6/dist-packages/numpy/core/include -I/usr/include/python3.6m -c'\u001b[0m\n",
            "\u001b[39mx86_64-linux-gnu-gcc: /tmp/tmpx8rnz5ou/src.linux-x86_64-3.6/fortran_modulemodule.c\u001b[0m\n",
            "In file included from /usr/local/lib/python3.6/dist-packages/numpy/core/include/numpy/ndarraytypes.h:1816:0,\n",
            "                 from /usr/local/lib/python3.6/dist-packages/numpy/core/include/numpy/ndarrayobject.h:18,\n",
            "                 from /usr/local/lib/python3.6/dist-packages/numpy/core/include/numpy/arrayobject.h:4,\n",
            "                 from /tmp/tmpx8rnz5ou/src.linux-x86_64-3.6/fortranobject.h:13,\n",
            "                 from /tmp/tmpx8rnz5ou/src.linux-x86_64-3.6/fortran_modulemodule.c:16:\n",
            "/usr/local/lib/python3.6/dist-packages/numpy/core/include/numpy/npy_1_7_deprecated_api.h:15:2: warning: #warning \"Using deprecated NumPy API, disable it by \" \"#defining NPY_NO_DEPRECATED_API NPY_1_7_API_VERSION\" [-Wcpp]\n",
            " #warning \"Using deprecated NumPy API, disable it by \" \\\n",
            "  ^~~~~~~\n",
            "/tmp/tmpx8rnz5ou/src.linux-x86_64-3.6/fortran_modulemodule.c: In function ‘PyInit_fortran_module’:\n",
            "/tmp/tmpx8rnz5ou/src.linux-x86_64-3.6/fortran_modulemodule.c:386:3: warning: this ‘for’ clause does not guard... [-Wmisleading-indentation]\n",
            "   for(i=0;f2py_routine_defs[i].name!=NULL;i++)\n",
            "   ^~~\n",
            "/tmp/tmpx8rnz5ou/src.linux-x86_64-3.6/fortran_modulemodule.c:389:5: note: ...this statement, but the latter is misleadingly indented as if it were guarded by the ‘for’\n",
            "     {\n",
            "     ^\n",
            "At top level:\n",
            "/tmp/tmpx8rnz5ou/src.linux-x86_64-3.6/fortran_modulemodule.c:144:12: warning: ‘f2py_size’ defined but not used [-Wunused-function]\n",
            " static int f2py_size(PyArrayObject* var, ...)\n",
            "            ^~~~~~~~~\n",
            "\u001b[39mx86_64-linux-gnu-gcc: /tmp/tmpx8rnz5ou/src.linux-x86_64-3.6/fortranobject.c\u001b[0m\n",
            "In file included from /usr/local/lib/python3.6/dist-packages/numpy/core/include/numpy/ndarraytypes.h:1816:0,\n",
            "                 from /usr/local/lib/python3.6/dist-packages/numpy/core/include/numpy/ndarrayobject.h:18,\n",
            "                 from /usr/local/lib/python3.6/dist-packages/numpy/core/include/numpy/arrayobject.h:4,\n",
            "                 from /tmp/tmpx8rnz5ou/src.linux-x86_64-3.6/fortranobject.h:13,\n",
            "                 from /tmp/tmpx8rnz5ou/src.linux-x86_64-3.6/fortranobject.c:2:\n",
            "/usr/local/lib/python3.6/dist-packages/numpy/core/include/numpy/npy_1_7_deprecated_api.h:15:2: warning: #warning \"Using deprecated NumPy API, disable it by \" \"#defining NPY_NO_DEPRECATED_API NPY_1_7_API_VERSION\" [-Wcpp]\n",
            " #warning \"Using deprecated NumPy API, disable it by \" \\\n",
            "  ^~~~~~~\n",
            "\u001b[39mcompiling Fortran sources\u001b[0m\n",
            "\u001b[39mFortran f77 compiler: /usr/bin/gfortran -Wall -g -ffixed-form -fno-second-underscore -fPIC -O3 -funroll-loops\n",
            "Fortran f90 compiler: /usr/bin/gfortran -Wall -g -fno-second-underscore -fPIC -O3 -funroll-loops\n",
            "Fortran fix compiler: /usr/bin/gfortran -Wall -g -ffixed-form -fno-second-underscore -Wall -g -fno-second-underscore -fPIC -O3 -funroll-loops\u001b[0m\n",
            "\u001b[39mcompile options: '-I/tmp/tmpx8rnz5ou/src.linux-x86_64-3.6 -I/usr/local/lib/python3.6/dist-packages/numpy/core/include -I/usr/include/python3.6m -c'\u001b[0m\n",
            "\u001b[39mgfortran:f90: k_fortran.f90\u001b[0m\n",
            "\u001b[39mgfortran:f77: /tmp/tmpx8rnz5ou/src.linux-x86_64-3.6/fortran_module-f2pywrappers.f\u001b[0m\n",
            "\u001b[39m/usr/bin/gfortran -Wall -g -Wall -g -shared /tmp/tmpx8rnz5ou/tmp/tmpx8rnz5ou/src.linux-x86_64-3.6/fortran_modulemodule.o /tmp/tmpx8rnz5ou/tmp/tmpx8rnz5ou/src.linux-x86_64-3.6/fortranobject.o /tmp/tmpx8rnz5ou/k_fortran.o /tmp/tmpx8rnz5ou/tmp/tmpx8rnz5ou/src.linux-x86_64-3.6/fortran_module-f2pywrappers.o -L/usr/lib/gcc/x86_64-linux-gnu/7 -L/usr/lib/gcc/x86_64-linux-gnu/7 -lgfortran -o ./fortran_module.cpython-36m-x86_64-linux-gnu.so\u001b[0m\n",
            "Removing build directory /tmp/tmpx8rnz5ou\n"
          ],
          "name": "stdout"
        }
      ]
    },
    {
      "metadata": {
        "id": "o3WHspsYObzf",
        "colab_type": "text"
      },
      "cell_type": "markdown",
      "source": [
        "Modulen kan så importeres og kjøres:"
      ]
    },
    {
      "metadata": {
        "id": "zf-7lsAyjgTy",
        "colab_type": "code",
        "colab": {}
      },
      "cell_type": "code",
      "source": [
        "import fortran_module\n",
        "\n",
        "v = np.asarray(v, order=\"F\") # Fortran-minne-ordning for å slippe kopier"
      ],
      "execution_count": 0,
      "outputs": []
    },
    {
      "metadata": {
        "id": "yXCNnRkQj97C",
        "colab_type": "code",
        "colab": {
          "base_uri": "https://localhost:8080/",
          "height": 35
        },
        "outputId": "8093e80a-fec2-49d3-d604-dfd42546fd7e"
      },
      "cell_type": "code",
      "source": [
        "%timeit fortran_module.k_fortran(v)"
      ],
      "execution_count": 86,
      "outputs": [
        {
          "output_type": "stream",
          "text": [
            "10 loops, best of 3: 53 ms per loop\n"
          ],
          "name": "stdout"
        }
      ]
    }
  ]
}