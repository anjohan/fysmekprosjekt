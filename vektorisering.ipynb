{
  "nbformat": 4,
  "nbformat_minor": 0,
  "metadata": {
    "colab": {
      "name": "vektorisering.ipynb",
      "version": "0.3.2",
      "provenance": [],
      "collapsed_sections": [],
      "include_colab_link": true
    },
    "kernelspec": {
      "name": "python3",
      "display_name": "Python 3"
    }
  },
  "cells": [
    {
      "cell_type": "markdown",
      "metadata": {
        "id": "view-in-github",
        "colab_type": "text"
      },
      "source": [
        "<a href=\"https://colab.research.google.com/github/uio-fys-mek/md-prosjekt/blob/master/vektorisering.ipynb\" target=\"_parent\"><img src=\"https://colab.research.google.com/assets/colab-badge.svg\" alt=\"Open In Colab\"/></a>"
      ]
    },
    {
      "metadata": {
        "id": "J-vsaCRLOB7j",
        "colab_type": "code",
        "colab": {}
      },
      "cell_type": "code",
      "source": [
        "import numpy as np"
      ],
      "execution_count": 0,
      "outputs": []
    },
    {
      "metadata": {
        "id": "ujxTxRySLl1C",
        "colab_type": "text"
      },
      "cell_type": "markdown",
      "source": [
        "# Vektorisering"
      ]
    },
    {
      "metadata": {
        "id": "3WeHrLwoM0AN",
        "colab_type": "text"
      },
      "cell_type": "markdown",
      "source": [
        "Når vi snakker om *vektorisering* i Python mener vi egentlig å utnytte funksjonaliteter og vektoroperasjoner i Python-pakken `numpy`. Numpy er en pakke som er skrevet i C/C++ og delvis Fortran - lavnivåspråk som generelt er mye raskere enn høynivåspråk som f.eks. Python. Dette gjør seg virkelig gjeldende i essensielle funksjonaliteter som for- og while-løkker. For eksempel vil en for-løkke i C/C++ gå 100 ganger (!) raskere enn en for-løkke i Python."
      ]
    },
    {
      "metadata": {
        "id": "9yF6pa0QNeoC",
        "colab_type": "text"
      },
      "cell_type": "markdown",
      "source": [
        "## Enkelt eksempel\n",
        "Det som er fint med numpy-biblioteket er at vektoroperasjoner som gjøres på numpy-arrays vil kalle på funksjonaliteter skrevet i nettopp disse lavnivå språkene. På denne måten drar man fordelene av hastighetene til disse, samtidig som man beholder en ren og kort python-syntax. Dette lar oss tilsynelatende gjøre operasjoner på *hele arrays* om gangen i python-scriptene våre.\n",
        "\n",
        "Enkelt eksempel:\n"
      ]
    },
    {
      "metadata": {
        "id": "2jr2SF_mOTdk",
        "colab_type": "code",
        "outputId": "c16d2dfa-567a-4ada-cb39-f50c184b4050",
        "colab": {
          "base_uri": "https://localhost:8080/",
          "height": 35
        }
      },
      "cell_type": "code",
      "source": [
        "a = np.array([1,2,3])\n",
        "b = np.array([1,1,1])\n",
        "c = a - b\n",
        "c"
      ],
      "execution_count": 0,
      "outputs": [
        {
          "output_type": "execute_result",
          "data": {
            "text/plain": [
              "array([0, 1, 2])"
            ]
          },
          "metadata": {
            "tags": []
          },
          "execution_count": 114
        }
      ]
    },
    {
      "metadata": {
        "id": "1O2XA2t6OdgL",
        "colab_type": "text"
      },
      "cell_type": "markdown",
      "source": [
        "Dette oversettes til C/Fortran-kode som tilsvarer"
      ]
    },
    {
      "metadata": {
        "id": "NLd_P8enOhML",
        "colab_type": "code",
        "outputId": "c5433ebf-e720-498a-f5d7-c3fcb975b297",
        "colab": {
          "base_uri": "https://localhost:8080/",
          "height": 35
        }
      },
      "cell_type": "code",
      "source": [
        "c = np.zeros_like(a)\n",
        "for i in range(len(c)):\n",
        "    c[i] = a[i] - b[i]\n",
        "c"
      ],
      "execution_count": 0,
      "outputs": [
        {
          "output_type": "execute_result",
          "data": {
            "text/plain": [
              "array([0, 1, 2])"
            ]
          },
          "metadata": {
            "tags": []
          },
          "execution_count": 115
        }
      ]
    },
    {
      "metadata": {
        "id": "akOu6xtfOyNj",
        "colab_type": "text"
      },
      "cell_type": "markdown",
      "source": [
        "Dette går mye raskere:"
      ]
    },
    {
      "metadata": {
        "id": "acyabaDOO2EE",
        "colab_type": "code",
        "colab": {}
      },
      "cell_type": "code",
      "source": [
        "def dum():\n",
        "    N = int(1E6)\n",
        "    a = np.zeros(N)\n",
        "    b = np.zeros(N)\n",
        "    c = np.zeros(N)\n",
        "    for i in range(N):\n",
        "        a[i] = np.random.uniform()\n",
        "        b[i] = np.random.uniform()\n",
        "        c[i] = a[i] - b[i]\n",
        "\n",
        "def vektorisert():\n",
        "    N = int(1E6)\n",
        "    a = np.random.uniform(size=N)\n",
        "    b = np.random.uniform(size=N)\n",
        "    c = a - b"
      ],
      "execution_count": 0,
      "outputs": []
    },
    {
      "metadata": {
        "id": "H-ZxUP9pParU",
        "colab_type": "code",
        "outputId": "3c35e3a9-69b0-4391-9e28-8fdcbb0b5be8",
        "colab": {
          "base_uri": "https://localhost:8080/",
          "height": 35
        }
      },
      "cell_type": "code",
      "source": [
        "%timeit dum()"
      ],
      "execution_count": 0,
      "outputs": [
        {
          "output_type": "stream",
          "text": [
            "1 loop, best of 3: 2.08 s per loop\n"
          ],
          "name": "stdout"
        }
      ]
    },
    {
      "metadata": {
        "id": "o4H2SpD8Phfs",
        "colab_type": "code",
        "outputId": "43443d47-12b6-400c-ad52-085a3e615de6",
        "colab": {
          "base_uri": "https://localhost:8080/",
          "height": 35
        }
      },
      "cell_type": "code",
      "source": [
        "%timeit vektorisert()"
      ],
      "execution_count": 0,
      "outputs": [
        {
          "output_type": "stream",
          "text": [
            "10 loops, best of 3: 32.3 ms per loop\n"
          ],
          "name": "stdout"
        }
      ]
    },
    {
      "metadata": {
        "id": "q-KMbT_tQztU",
        "colab_type": "text"
      },
      "cell_type": "markdown",
      "source": [
        "Som vi ser, går den vektoriserte koden mye raskere. I tillegg er koden enklere og mer matematikknær.\n",
        "\n",
        "Moralen er at man alltid bør prøve å erstatte så mange Python-løkker som mulig med vektoriserte numpy-operasjoner."
      ]
    },
    {
      "metadata": {
        "id": "eG5Wwcb8R1c9",
        "colab_type": "text"
      },
      "cell_type": "markdown",
      "source": [
        "## Parvise operasjoner\n",
        "I Grand Challenge må vi finne avstandene mellom hvert eneste atompar for å kunne regne ut summen av kreftene på hvert atom. I eksemplene under viser vi flere måter å sammenligne alle elementene i et array mot hverandre, både delvis og fullt vektorisert. For enkelhets skyld opererer vi på et 2D-array, men metodene kan også lett brukes på arrays med flere dimensjoner.\n",
        "\n",
        "\n",
        "### Enkel tilnærming\n",
        "Hvis posisjonene er lagret i `r` som har dimensjon $N \\times 3 $, hvor $N$ er antallet partikler, vil koden typisk se slik ut:\n",
        "```python\n",
        "for i in range(N-1):\n",
        "    for j in range(i+1, N):\n",
        "        dr = r[j] - r[i]\n",
        "```\n",
        "\n",
        "Dette er den mest \"rett frem\"-måten å sammenligne array'ene på, men også den tregeste. Når antallet iterasjoner per loop ($N$) blir stort, vil bare det å loope gjennom løkkene ta en god del tid. Skal man i tillegg gjøre kompliserte beregninger inne i løkkene kan det være en fordel å ha abonnement hos Netflix. Samtidig er det veldig oversiktlig og enkelt å kun behandle ett element om gangen, hvor man har god kontroll på hva som faktisk skjer. Likevel, \n",
        "\n",
        "\n",
        " - +Lett å forstå hva som skjer.\n",
        " - +Trenger kun ett element i minnet om gangen.\n",
        " - -Kan bli en del kode.\n",
        " - -*Ekstremt* tregt.\n",
        "\n",
        "### Vektorisert utregning\n",
        "Alle avstandsvektorene til naboene til atom $i$ kan regnes ut på én gang med\n",
        "```python\n",
        "for i in range(N):\n",
        "    drs = r - r[i]\n",
        "```\n",
        "og kreftene kan regnes ut fra disse. OBS: `drs[i]` vil være $\\vec{0}$. Vil man unngå disse $\\vec{0}$-vektorene kan enten fjerne dette elementet i etterkant, eller indeksere direkte med \" `r[np.arange(N)!=i] - r[i]` \".\n",
        "\n",
        "Ved å vektorisere på denne måten kan man forsatt ta i bruk \"Newtons 3. lov\" (avstanden $r_{ij} = - r_{ji}$), men da trenger man også et ($N \\times N \\times 3$)-array utenfor hvor man kan sette inn de aktuelle avstandene.\n",
        "\n",
        "```python\n",
        "for i in range(N):\n",
        "    drs = r[i+1:] - r[i]\n",
        "    dr_matr[i, i+1:] = drs\n",
        "    dr_matr[i+1: i] = -drs\n",
        "```\n",
        "\n",
        "\n",
        "- +Fjerner én for-løkke.\n",
        "- +Forholdsvis rett frem for flerdimensjonale arrays.\n",
        "- -Fortsatt én for-løkke.\n",
        "- -Kryptisk indeksering.\n",
        "\n",
        "### Ekstremvektorisering\n",
        "*Broadcasting* kan brukes til å regne ut avstandene mellom atomene helt uten for-løkker. Se på dette eksemplet:"
      ]
    },
    {
      "metadata": {
        "id": "BoIc1oL5O8uE",
        "colab_type": "code",
        "outputId": "5ab5644f-9ce3-40f9-b699-11c5e70edf4f",
        "colab": {
          "base_uri": "https://localhost:8080/",
          "height": 91
        }
      },
      "cell_type": "code",
      "source": [
        "x1 = np.array([1,2,3])\n",
        "x2 = x1.reshape(-1,1)\n",
        "print(x1, \"\\n\", x2)"
      ],
      "execution_count": 0,
      "outputs": [
        {
          "output_type": "stream",
          "text": [
            "[1 2 3] \n",
            " [[1]\n",
            " [2]\n",
            " [3]]\n"
          ],
          "name": "stdout"
        }
      ]
    },
    {
      "metadata": {
        "id": "zdYrNXRzPUPV",
        "colab_type": "code",
        "outputId": "9871b98e-16ee-4416-b77e-a7470d42bade",
        "colab": {
          "base_uri": "https://localhost:8080/",
          "height": 72
        }
      },
      "cell_type": "code",
      "source": [
        "x1 - x2"
      ],
      "execution_count": 0,
      "outputs": [
        {
          "output_type": "execute_result",
          "data": {
            "text/plain": [
              "array([[ 0,  1,  2],\n",
              "       [-1,  0,  1],\n",
              "       [-2, -1,  0]])"
            ]
          },
          "metadata": {
            "tags": []
          },
          "execution_count": 120
        }
      ]
    },
    {
      "metadata": {
        "id": "ktP0SPtzPWvl",
        "colab_type": "text"
      },
      "cell_type": "markdown",
      "source": [
        "Vi ser at når en kolonevektor trekkes fra en radvektor, blir resultatet en matrise hvor første rad er radvektoren minus første element i kolonnevektoren etc. Dette kan brukes til å regne ut alle innbyrdes avstande, uten en eneste for-løkke.\n",
        "\n",
        "- +Ingen for-løkker.\n",
        "- +Raskest.\n",
        "- -Ingen Newtons 3. lov.\n",
        "- -Krever $N^2$ elementer i minnet - begrenser systemstørrelse.\n",
        "- Grisete, lite intuitiv kode for flerdimensjonale arrays."
      ]
    },
    {
      "metadata": {
        "id": "aKaWQAH1IkBr",
        "colab_type": "text"
      },
      "cell_type": "markdown",
      "source": [
        "## Andre alternativer\n",
        "### Numba\n",
        "Numba er en Python-pakke som oversetter Python-kode til LLVM-kode og kompilerer den. Resultatet er at Python-koden kan gå nesten like raskt som de kompilerte språkene.\n",
        "\n",
        "Eksempel:"
      ]
    },
    {
      "metadata": {
        "id": "oarN2kBtJD6M",
        "colab_type": "code",
        "colab": {}
      },
      "cell_type": "code",
      "source": [
        "import numba\n",
        "\n",
        "@numba.njit\n",
        "def K_numba(v):\n",
        "    K = 0\n",
        "    N = len(v)\n",
        "    for i in range(N):\n",
        "        for j in range(3):\n",
        "            K += v[i,j]**2\n",
        "    return 0.5*K\n",
        "\n",
        "def K_dum(v):\n",
        "    K = 0\n",
        "    N = len(v)\n",
        "    for i in range(N):\n",
        "        for j in range(3):\n",
        "            K += v[i,j]**2\n",
        "    return 0.5*K\n",
        "\n",
        "def K_numpy(v):\n",
        "    return 0.5*np.sum(v**2)"
      ],
      "execution_count": 0,
      "outputs": []
    },
    {
      "metadata": {
        "id": "dIteMBLAJ3LU",
        "colab_type": "code",
        "colab": {}
      },
      "cell_type": "code",
      "source": [
        "N = int(1E7)\n",
        "v = np.random.normal(size=(N,3))"
      ],
      "execution_count": 0,
      "outputs": []
    },
    {
      "metadata": {
        "id": "_r2H3VH8J-c1",
        "colab_type": "code",
        "outputId": "6e379dae-a03f-4cfa-a1ba-ade73189bccc",
        "colab": {
          "base_uri": "https://localhost:8080/",
          "height": 35
        }
      },
      "cell_type": "code",
      "source": [
        "%timeit K_numba(v)"
      ],
      "execution_count": 0,
      "outputs": [
        {
          "output_type": "stream",
          "text": [
            "10 loops, best of 3: 46.8 ms per loop\n"
          ],
          "name": "stdout"
        }
      ]
    },
    {
      "metadata": {
        "id": "dPiy8hZyKBiE",
        "colab_type": "code",
        "outputId": "a5c2362f-2679-4f3b-ee72-ce490ed599fc",
        "colab": {
          "base_uri": "https://localhost:8080/",
          "height": 35
        }
      },
      "cell_type": "code",
      "source": [
        "%timeit K_dum(v)"
      ],
      "execution_count": 0,
      "outputs": [
        {
          "output_type": "stream",
          "text": [
            "1 loop, best of 3: 16.5 s per loop\n"
          ],
          "name": "stdout"
        }
      ]
    },
    {
      "metadata": {
        "id": "-3k3qb-YL1RG",
        "colab_type": "code",
        "outputId": "727a75c6-bf0e-4fe8-eda3-b4191f19d440",
        "colab": {
          "base_uri": "https://localhost:8080/",
          "height": 35
        }
      },
      "cell_type": "code",
      "source": [
        "%timeit K_numpy(v)"
      ],
      "execution_count": 0,
      "outputs": [
        {
          "output_type": "stream",
          "text": [
            "10 loops, best of 3: 97.5 ms per loop\n"
          ],
          "name": "stdout"
        }
      ]
    },
    {
      "metadata": {
        "id": "0J5OOeFdMITm",
        "colab_type": "text"
      },
      "cell_type": "markdown",
      "source": [
        "Her ser vi at én numpy-operasjon kan være raskere enn numba. Her var vi dog heldige med at numpy har en funksjon som gjør akkurat det vi vil. I de fleste tilfeller vil numba være raskere, selv med mer intuitiv kode.\n",
        "\n",
        "Ved bruk av numba er det viktig å bare bruke tall og numpy-arrayer.  Ved å bruke `njit` (i stedet for `jit`) sjekker numba at dette er oppfylt."
      ]
    },
    {
      "metadata": {
        "id": "eomZ4vZ9M9lu",
        "colab_type": "text"
      },
      "cell_type": "markdown",
      "source": [
        "### Fortran\n",
        "Det er enkelt å kalle på Fortran-kode som gjør den tyngste delen av utregningen.\n",
        "\n",
        "Gitt følgende fil:"
      ]
    },
    {
      "metadata": {
        "id": "RbUTVvzlNoAX",
        "colab_type": "code",
        "outputId": "b54b2d13-57b4-49ff-841b-cbcb1bff56c0",
        "colab": {
          "base_uri": "https://localhost:8080/",
          "height": 35
        }
      },
      "cell_type": "code",
      "source": [
        "%%file k_fortran.f90\n",
        "function K_fortran(v, N) result(K)\n",
        "    ! Argumenter\n",
        "    integer, intent(in) :: N\n",
        "    double precision, intent(in) :: v(N, 3)\n",
        "        \n",
        "    ! Returverdi\n",
        "    double precision :: K\n",
        "    \n",
        "    K = 0.5*sum(v**2)\n",
        "end function"
      ],
      "execution_count": 0,
      "outputs": [
        {
          "output_type": "stream",
          "text": [
            "Overwriting k_fortran.f90\n"
          ],
          "name": "stdout"
        }
      ]
    },
    {
      "metadata": {
        "id": "DscNkNVCOI_A",
        "colab_type": "text"
      },
      "cell_type": "markdown",
      "source": [
        "Denne kan kompileres til en python-modul med terminalkommandoen"
      ]
    },
    {
      "metadata": {
        "id": "1LlYLXGgOP5H",
        "colab_type": "code",
        "colab": {}
      },
      "cell_type": "code",
      "source": [
        "! f2py3 -c -m fortran_modul k_fortran.f90 > /dev/null"
      ],
      "execution_count": 0,
      "outputs": []
    },
    {
      "metadata": {
        "id": "o3WHspsYObzf",
        "colab_type": "text"
      },
      "cell_type": "markdown",
      "source": [
        "Modulen kan så importeres og kjøres:"
      ]
    },
    {
      "metadata": {
        "id": "BxnhU2IMtagR",
        "colab_type": "code",
        "colab": {}
      },
      "cell_type": "code",
      "source": [
        "from fortran_modul import k_fortran\n",
        "\n",
        "v = np.asarray(v, order=\"F\") # Fortran-minne-ordning"
      ],
      "execution_count": 0,
      "outputs": []
    },
    {
      "metadata": {
        "id": "qA1zZATCtgjR",
        "colab_type": "code",
        "outputId": "a514f58a-850b-462b-b592-0c9ec9fe6da4",
        "colab": {
          "base_uri": "https://localhost:8080/",
          "height": 35
        }
      },
      "cell_type": "code",
      "source": [
        "%timeit k_fortran(v, N)"
      ],
      "execution_count": 0,
      "outputs": [
        {
          "output_type": "stream",
          "text": [
            "10 loops, best of 3: 53.1 ms per loop\n"
          ],
          "name": "stdout"
        }
      ]
    }
  ]
}