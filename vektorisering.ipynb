{
  "nbformat": 4,
  "nbformat_minor": 0,
  "metadata": {
    "colab": {
      "name": "vektorisering.ipynb",
      "version": "0.3.2",
      "provenance": [],
      "include_colab_link": true
    },
    "kernelspec": {
      "name": "python3",
      "display_name": "Python 3"
    }
  },
  "cells": [
    {
      "cell_type": "markdown",
      "metadata": {
        "id": "view-in-github",
        "colab_type": "text"
      },
      "source": [
        "<a href=\"https://colab.research.google.com/github/uio-fys-mek/md-prosjekt/blob/master/vektorisering.ipynb\" target=\"_parent\"><img src=\"https://colab.research.google.com/assets/colab-badge.svg\" alt=\"Open In Colab\"/></a>"
      ]
    },
    {
      "metadata": {
        "id": "J-vsaCRLOB7j",
        "colab_type": "code",
        "colab": {}
      },
      "cell_type": "code",
      "source": [
        "import numpy as np"
      ],
      "execution_count": 0,
      "outputs": []
    },
    {
      "metadata": {
        "id": "ujxTxRySLl1C",
        "colab_type": "text"
      },
      "cell_type": "markdown",
      "source": [
        "# Vektorisering"
      ]
    },
    {
      "metadata": {
        "id": "3WeHrLwoM0AN",
        "colab_type": "text"
      },
      "cell_type": "markdown",
      "source": [
        "Når vi snakker om *vektorisering* i Python mener vi egentlig å utnytte funksjonaliteter og vektoroperasjoner i Python-pakken `numpy`. Numpy er en pakke som er skrevet i C/C++ og delvis Fortran - lavnivåspråk som generelt er mye raskere enn høynivåspråk som f.eks. Python. Dette gjør seg virkelig gjeldende i essensielle funksjonaliteter som for- og while-løkker. For eksempel vil en for-løkke i C/C++ gå 100 ganger (!) raskere enn en for-løkke i Python."
      ]
    },
    {
      "metadata": {
        "id": "9yF6pa0QNeoC",
        "colab_type": "text"
      },
      "cell_type": "markdown",
      "source": [
        "## Enkelt eksempel\n",
        "Det som er fint med numpy-biblioteket er at vektoroperasjoner som gjøres på numpy-arrays vil kalle på funksjonaliteter skrevet i nettopp disse lavnivå språkene. På denne måten drar man fordelene av hastighetene til disse, samtidig som man beholder en ren og kort python-syntax. Dette lar oss tilsynelatende gjøre operasjoner på *hele arrays* om gangen i python-scriptene våre.\n",
        "\n",
        "Enkelt eksempel:\n"
      ]
    },
    {
      "metadata": {
        "id": "2jr2SF_mOTdk",
        "colab_type": "code",
        "outputId": "6a83da20-c65b-4b95-801a-393d2ce19207",
        "colab": {
          "base_uri": "https://localhost:8080/",
          "height": 35
        }
      },
      "cell_type": "code",
      "source": [
        "a = np.array([1,2,3])\n",
        "b = np.array([1,1,1])\n",
        "c = a - b\n",
        "c"
      ],
      "execution_count": 0,
      "outputs": [
        {
          "output_type": "execute_result",
          "data": {
            "text/plain": [
              "array([0, 1, 2])"
            ]
          },
          "metadata": {
            "tags": []
          },
          "execution_count": 3
        }
      ]
    },
    {
      "metadata": {
        "id": "1O2XA2t6OdgL",
        "colab_type": "text"
      },
      "cell_type": "markdown",
      "source": [
        "Dette oversettes til C/Fortran kode som tilsvarer"
      ]
    },
    {
      "metadata": {
        "id": "NLd_P8enOhML",
        "colab_type": "code",
        "outputId": "6957d109-ec92-4ab7-ae14-2caaf4722122",
        "colab": {
          "base_uri": "https://localhost:8080/",
          "height": 35
        }
      },
      "cell_type": "code",
      "source": [
        "c = np.zeros_like(a)\n",
        "for i in range(len(c)):\n",
        "    c[i] = a[i] - b[i]\n",
        "c"
      ],
      "execution_count": 0,
      "outputs": [
        {
          "output_type": "execute_result",
          "data": {
            "text/plain": [
              "array([0, 1, 2])"
            ]
          },
          "metadata": {
            "tags": []
          },
          "execution_count": 4
        }
      ]
    },
    {
      "metadata": {
        "id": "akOu6xtfOyNj",
        "colab_type": "text"
      },
      "cell_type": "markdown",
      "source": [
        "Dette går mye raskere:"
      ]
    },
    {
      "metadata": {
        "id": "acyabaDOO2EE",
        "colab_type": "code",
        "colab": {}
      },
      "cell_type": "code",
      "source": [
        "def dum():\n",
        "    N = int(1E6)\n",
        "    a = np.zeros(N)\n",
        "    b = np.zeros(N)\n",
        "    c = np.zeros(N)\n",
        "    for i in range(N):\n",
        "        a[i] = np.random.uniform()\n",
        "        b[i] = np.random.uniform()\n",
        "        c[i] = a[i] - b[i]\n",
        "\n",
        "def vektorisert():\n",
        "    N = int(1E6)\n",
        "    a = np.random.uniform(size=N)\n",
        "    b = np.random.uniform(size=N)\n",
        "    c = a - b"
      ],
      "execution_count": 0,
      "outputs": []
    },
    {
      "metadata": {
        "id": "H-ZxUP9pParU",
        "colab_type": "code",
        "outputId": "c0b7447a-bd17-499d-cb7c-f748f7624d43",
        "colab": {
          "base_uri": "https://localhost:8080/",
          "height": 35
        }
      },
      "cell_type": "code",
      "source": [
        "%timeit dum()"
      ],
      "execution_count": 0,
      "outputs": [
        {
          "output_type": "stream",
          "text": [
            "1 loop, best of 3: 2.17 s per loop\n"
          ],
          "name": "stdout"
        }
      ]
    },
    {
      "metadata": {
        "id": "o4H2SpD8Phfs",
        "colab_type": "code",
        "outputId": "c1c1914c-75f5-48d3-8272-bbfbe6d1e3b0",
        "colab": {
          "base_uri": "https://localhost:8080/",
          "height": 35
        }
      },
      "cell_type": "code",
      "source": [
        "%timeit vektorisert()"
      ],
      "execution_count": 0,
      "outputs": [
        {
          "output_type": "stream",
          "text": [
            "10 loops, best of 3: 31.7 ms per loop\n"
          ],
          "name": "stdout"
        }
      ]
    },
    {
      "metadata": {
        "id": "q-KMbT_tQztU",
        "colab_type": "text"
      },
      "cell_type": "markdown",
      "source": [
        "Som vi ser, går den vektoriserte koden mye raskere. I tillegg er koden enklere og mer matematikknær.\n",
        "\n",
        "Moralen er at man alltid bør prøve å erstatte så mange Python-løkker som mulig med vektoriserte numpy-operasjoner."
      ]
    },
    {
      "metadata": {
        "id": "eG5Wwcb8R1c9",
        "colab_type": "text"
      },
      "cell_type": "markdown",
      "source": [
        "## Parvise operasjoner\n",
        "I Grand Challenge må vi finne avstandene mellom hvert eneste atompar for å kunne regne ut summen av kreftene på hvert atom. I eksemplene under viser vi flere måter å sammenligne alle elementene i et array mot hverandre, både delvis og fullt vektorisert. For enkelhets skyld opererer vi på et 1D-array, men metodene kan også lett brukes på arrays med flere dimensjoner.\n",
        "\n",
        "\n",
        "### Enkel tilnærming\n",
        "Hvis posisjonene er lagret i `r` som har dimensjon $N \\times 3 $, hvor $N$ er antallet partikler, vil koden typisk se slik ut:\n",
        "```python\n",
        "for i in range(N-1):\n",
        "    for j in range(i+1, N):\n",
        "        dr = r[j] - r[i]\n",
        "```\n",
        "\n",
        "Dette er den mest \"rett frem\"-måten å sammenligne array'ene på, men også den tregeste. Når antallet iterasjoner per loop ($N$) blir stort, vil bare det å loope gjennom løkkene ta en god del tid. Skal man i tillegg gjøre kompliserte beregninger inne i løkkene kan det være en fordel å ha abonnement hos Netflix. Samtidig er det veldig oversiktlig og enkelt å kun behandle ett element om gangen, hvor man har god kontroll på hva som faktisk skjer. Likevel, \n",
        "\n",
        "\n",
        " - +Lett å forstå hva som skjer.\n",
        " - +Trenger kun ett element i minnet om gangen.\n",
        " - -Kan bli en del kode.\n",
        " - -*Ekstremt* tregt.\n",
        "\n",
        "### Vektorisert utregning\n",
        "Alle avstandsvektorene til naboene til atom $i$ kan regnes ut på én gang med\n",
        "```python\n",
        "for i in range(N):\n",
        "    drs = r - r[i]\n",
        "```\n",
        "og kreftene kan regnes ut fra disse. OBS: `drs[i]` vil være $\\vec{0}$.\n",
        "- +Fjerner én for-løkke.\n",
        "- +Forholdsvis rett frem for flerdimensjonale arrays.\n",
        "- $\\pm$Trenger $N$ elementer i minnet om gangen.\n",
        "- -Fortsatt én for-løkke.\n",
        "\n",
        "### Ekstremvektorisering\n",
        "*Broadcasting* kan brukes til å regne ut avstandene mellom atomene helt uten for-løkker. Se på dette eksemplet:"
      ]
    },
    {
      "metadata": {
        "id": "BoIc1oL5O8uE",
        "colab_type": "code",
        "outputId": "8246e9a9-3644-40b6-843f-8084853404b1",
        "colab": {
          "base_uri": "https://localhost:8080/",
          "height": 91
        }
      },
      "cell_type": "code",
      "source": [
        "x1 = np.array([1,2,3])\n",
        "x2 = x1.reshape(-1,1)\n",
        "print(x1, \"\\n\", x2)"
      ],
      "execution_count": 0,
      "outputs": [
        {
          "output_type": "stream",
          "text": [
            "[1 2 3] \n",
            " [[1]\n",
            " [2]\n",
            " [3]]\n"
          ],
          "name": "stdout"
        }
      ]
    },
    {
      "metadata": {
        "id": "zdYrNXRzPUPV",
        "colab_type": "code",
        "outputId": "a00d8d43-04a2-4ba3-bd4d-58d2e92e977c",
        "colab": {
          "base_uri": "https://localhost:8080/",
          "height": 72
        }
      },
      "cell_type": "code",
      "source": [
        "x1 - x2"
      ],
      "execution_count": 0,
      "outputs": [
        {
          "output_type": "execute_result",
          "data": {
            "text/plain": [
              "array([[ 0,  1,  2],\n",
              "       [-1,  0,  1],\n",
              "       [-2, -1,  0]])"
            ]
          },
          "metadata": {
            "tags": []
          },
          "execution_count": 12
        }
      ]
    },
    {
      "metadata": {
        "id": "ktP0SPtzPWvl",
        "colab_type": "text"
      },
      "cell_type": "markdown",
      "source": [
        "Vi ser at når en kolonevektor trekkes fra en radvektor, blir resultatet en matrise hvor første rad er radvektoren minus første element i kolonnevektoren etc."
      ]
    }
  ]
}