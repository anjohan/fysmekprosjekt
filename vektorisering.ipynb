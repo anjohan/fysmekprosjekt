{
  "nbformat": 4,
  "nbformat_minor": 0,
  "metadata": {
    "colab": {
      "name": "vektorisering.ipynb",
      "version": "0.3.2",
      "provenance": [],
      "include_colab_link": true
    },
    "kernelspec": {
      "name": "python3",
      "display_name": "Python 3"
    }
  },
  "cells": [
    {
      "cell_type": "markdown",
      "metadata": {
        "id": "view-in-github",
        "colab_type": "text"
      },
      "source": [
        "<a href=\"https://colab.research.google.com/github/uio-fys-mek/md-prosjekt/blob/master/vektorisering.ipynb\" target=\"_parent\"><img src=\"https://colab.research.google.com/assets/colab-badge.svg\" alt=\"Open In Colab\"/></a>"
      ]
    },
    {
      "metadata": {
        "id": "J-vsaCRLOB7j",
        "colab_type": "code",
        "colab": {}
      },
      "cell_type": "code",
      "source": [
        "import numpy as np"
      ],
      "execution_count": 0,
      "outputs": []
    },
    {
      "metadata": {
        "id": "ujxTxRySLl1C",
        "colab_type": "text"
      },
      "cell_type": "markdown",
      "source": [
        "# Vektorisering"
      ]
    },
    {
      "metadata": {
        "id": "3WeHrLwoM0AN",
        "colab_type": "text"
      },
      "cell_type": "markdown",
      "source": [
        "Når vi snakker om *vektorisering* i Python mener vi egentlig å utnytte funksjonaliteter og vektoroperasjoner i Python-pakken `numpy`. Numpy er en pakke som er skrevet i C/C++ og delvis Fortran - lavnivåspråk som generelt er mye raskere enn høynivåspråk som f.eks. Python. Dette gjør seg virkelig gjeldende i essensielle funksjonaliteter som for- og while-løkker. For eksempel vil en for-løkke i C/C++ gå 100 ganger (!) raskere enn en for-løkke i Python."
      ]
    },
    {
      "metadata": {
        "id": "9yF6pa0QNeoC",
        "colab_type": "text"
      },
      "cell_type": "markdown",
      "source": [
        "## Enkelt eksempel\n",
        "Det som er fint med numpy-biblioteket er at vektoroperasjoner som gjøres på numpy-arrays vil kalle på funksjonaliteter skrevet i nettopp disse lavnivå språkene. På denne måten drar man fordelene av hastighetene til disse, samtidig som man beholder en ren og kort python-syntax. Dette lar oss tilsynelatende gjøre operasjoner på *hele arrays* om gangen i python-scriptene våre.\n",
        "\n",
        "Enkelt eksempel:\n"
      ]
    },
    {
      "metadata": {
        "id": "2jr2SF_mOTdk",
        "colab_type": "code",
        "colab": {
          "base_uri": "https://localhost:8080/",
          "height": 35
        },
        "outputId": "e357b285-488a-427b-9aae-aebee8923c97"
      },
      "cell_type": "code",
      "source": [
        "a = np.array([1,2,3])\n",
        "b = np.array([1,1,1])\n",
        "c = a - b\n",
        "c"
      ],
      "execution_count": 10,
      "outputs": [
        {
          "output_type": "execute_result",
          "data": {
            "text/plain": [
              "array([0, 1, 2])"
            ]
          },
          "metadata": {
            "tags": []
          },
          "execution_count": 10
        }
      ]
    },
    {
      "metadata": {
        "id": "1O2XA2t6OdgL",
        "colab_type": "text"
      },
      "cell_type": "markdown",
      "source": [
        "Dette oversettes til C/Fortran kode som tilsvarer"
      ]
    },
    {
      "metadata": {
        "id": "NLd_P8enOhML",
        "colab_type": "code",
        "colab": {
          "base_uri": "https://localhost:8080/",
          "height": 35
        },
        "outputId": "a21e277c-b026-4997-a3c7-5f2950f34a37"
      },
      "cell_type": "code",
      "source": [
        "c = np.zeros_like(a)\n",
        "for i in range(len(c)):\n",
        "    c[i] = a[i] - b[i]\n",
        "c"
      ],
      "execution_count": 11,
      "outputs": [
        {
          "output_type": "execute_result",
          "data": {
            "text/plain": [
              "array([0, 1, 2])"
            ]
          },
          "metadata": {
            "tags": []
          },
          "execution_count": 11
        }
      ]
    },
    {
      "metadata": {
        "id": "akOu6xtfOyNj",
        "colab_type": "text"
      },
      "cell_type": "markdown",
      "source": [
        "Dette går mye raskere:"
      ]
    },
    {
      "metadata": {
        "id": "acyabaDOO2EE",
        "colab_type": "code",
        "colab": {}
      },
      "cell_type": "code",
      "source": [
        "def dum():\n",
        "    N = int(1E6)\n",
        "    a = np.zeros(N)\n",
        "    b = np.zeros(N)\n",
        "    c = np.zeros(N)\n",
        "    for i in range(N):\n",
        "        a[i] = np.random.uniform()\n",
        "        b[i] = np.random.uniform()\n",
        "        c[i] = a[i] - b[i]\n",
        "\n",
        "def vektorisert():\n",
        "    N = int(1E6)\n",
        "    a = np.random.uniform(size=N)\n",
        "    b = np.random.uniform(size=N)\n",
        "    c = a - b"
      ],
      "execution_count": 0,
      "outputs": []
    },
    {
      "metadata": {
        "id": "H-ZxUP9pParU",
        "colab_type": "code",
        "colab": {
          "base_uri": "https://localhost:8080/",
          "height": 35
        },
        "outputId": "f060f055-5771-46f0-e5b3-2a69d207d70f"
      },
      "cell_type": "code",
      "source": [
        "%timeit dum()"
      ],
      "execution_count": 13,
      "outputs": [
        {
          "output_type": "stream",
          "text": [
            "1 loop, best of 3: 2.19 s per loop\n"
          ],
          "name": "stdout"
        }
      ]
    },
    {
      "metadata": {
        "id": "o4H2SpD8Phfs",
        "colab_type": "code",
        "colab": {
          "base_uri": "https://localhost:8080/",
          "height": 35
        },
        "outputId": "425449ec-aea2-4e81-a274-17b6f6e353bc"
      },
      "cell_type": "code",
      "source": [
        "%timeit vektorisert()"
      ],
      "execution_count": 14,
      "outputs": [
        {
          "output_type": "stream",
          "text": [
            "10 loops, best of 3: 31.4 ms per loop\n"
          ],
          "name": "stdout"
        }
      ]
    },
    {
      "metadata": {
        "id": "q-KMbT_tQztU",
        "colab_type": "text"
      },
      "cell_type": "markdown",
      "source": [
        "Som vi ser, går den vektoriserte koden mye raskere. I tillegg er koden enklere og mer matematikknær.\n",
        "\n",
        "Moralen er at man alltid bør prøve å erstatte så mange Python-løkker som mulig med vektoriserte numpy-operasjoner."
      ]
    },
    {
      "metadata": {
        "id": "eG5Wwcb8R1c9",
        "colab_type": "text"
      },
      "cell_type": "markdown",
      "source": [
        "## Parvise operasjoner\n",
        "I Grand Challenge må vi finne avstandene mellom hvert eneste atompar for å kunne regne ut summen av kreftene på hvert atom. I eksemplene under viser vi flere måter å sammenligne alle elementene i et array mot hverandre, både delvis og fullt vektorisert. For enkelhets skyld opererer vi på et 1D-array, men metodene kan også lett brukes på arrays med flere dimensjoner.\n",
        "\n",
        "\n",
        "### Enkel tilnærming\n",
        "Hvis posisjonene er lagret i `r` som har dimensjon $N \\times 3 $, hvor $N$ er antallet partikler, vil koden typisk se slik ut:\n",
        "```python\n",
        "for i in range(N-1):\n",
        "    for j in range(i+1, N):\n",
        "        dr = r[j] - r[i]\n",
        "```\n",
        "\n",
        "Dette er den mest \"rett frem\"-måten å sammenligne array'ene på, men også den tregeste. Når antallet iterasjoner per loop ($N$) blir stort, vil bare det å loope gjennom løkkene ta en god del tid. Skal man i tillegg gjøre kompliserte beregninger inne i løkkene kan det være en fordel å ha abonnement hos Netflix. Samtidig er det veldig oversiktlig og enkelt å kun behandle ett element om gangen, hvor man har god kontroll på hva som faktisk skjer. Likevel, \n",
        "\n",
        "\n",
        " - +Lett å forstå hva som skjer.\n",
        " - +Trenger kun ett element i minnet om gangen.\n",
        " - -Kan bli en del kode.\n",
        " - -*Ekstremt* tregt.\n",
        "\n",
        "### Vektorisert utregning\n",
        "Alle avstandsvektorene til naboene til atom $i$ kan regnes ut på én gang med\n",
        "```python\n",
        "for i in range(N):\n",
        "    drs = r - r[i]\n",
        "```\n",
        "og kreftene kan regnes ut fra disse. OBS: `drs[i]` vil være $\\vec{0}$."
      ]
    }
  ]
}