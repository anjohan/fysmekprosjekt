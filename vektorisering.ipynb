{
  "nbformat": 4,
  "nbformat_minor": 0,
  "metadata": {
    "colab": {
      "name": "Vektorisering MD",
      "provenance": [],
      "collapsed_sections": [
        "aKaWQAH1IkBr"
      ]
    },
    "kernelspec": {
      "name": "python3",
      "display_name": "Python 3"
    }
  },
  "cells": [
    {
      "metadata": {
        "id": "J-vsaCRLOB7j"
      },
      "cell_type": "code",
      "source": [
        "import numpy as np"
      ],
      "execution_count": 14,
      "outputs": []
    },
    {
      "metadata": {
        "id": "ujxTxRySLl1C"
      },
      "cell_type": "markdown",
      "source": [
        "# Vektorisering"
      ]
    },
    {
      "metadata": {
        "id": "3WeHrLwoM0AN"
      },
      "cell_type": "markdown",
      "source": [
        "Når vi snakker om *vektorisering* i Python mener vi egentlig å utnytte funksjonaliteter og vektoroperasjoner i Python-pakken `numpy`. Numpy er en pakke som er skrevet i C/C++ og delvis Fortran - lavnivåspråk som generelt er mye raskere enn høynivåspråk som f.eks. Python. Dette gjør seg virkelig gjeldende i essensielle funksjonaliteter som for- og while-løkker. For eksempel vil en for-løkke i C/C++ gå 100 ganger (!) raskere enn en for-løkke i Python."
      ]
    },
    {
      "metadata": {
        "id": "9yF6pa0QNeoC"
      },
      "cell_type": "markdown",
      "source": [
        "## Enkelt eksempel\n",
        "Det som er fint med numpy-biblioteket er at vektoroperasjoner som gjøres på numpy-arrays vil kalle på funksjonaliteter skrevet i nettopp disse lavnivå språkene. På denne måten drar man fordelene av hastighetene til disse, samtidig som man beholder en ren og kort python-syntax. Dette lar oss tilsynelatende gjøre operasjoner på *hele arrays* om gangen i python-scriptene våre.\n",
        "\n",
        "Enkelt eksempel:\n"
      ]
    },
    {
      "metadata": {
        "id": "2jr2SF_mOTdk",
        "outputId": "02298f91-bc5d-4060-af1a-1da65b6b007c",
        "colab": {
          "base_uri": "https://localhost:8080/"
        }
      },
      "cell_type": "code",
      "source": [
        "a = np.array([1,2,3])\n",
        "b = np.array([1,1,1])\n",
        "c = a - b\n",
        "c"
      ],
      "execution_count": 17,
      "outputs": [
        {
          "output_type": "execute_result",
          "data": {
            "text/plain": [
              "array([0, 1, 2])"
            ]
          },
          "metadata": {},
          "execution_count": 17
        }
      ]
    },
    {
      "metadata": {
        "id": "1O2XA2t6OdgL"
      },
      "cell_type": "markdown",
      "source": [
        "Dette oversettes til C/Fortran-kode som tilsvarer"
      ]
    },
    {
      "metadata": {
        "id": "NLd_P8enOhML",
        "outputId": "76d83d2e-72ea-4819-d88c-210102149276",
        "colab": {
          "base_uri": "https://localhost:8080/"
        }
      },
      "cell_type": "code",
      "source": [
        "c = np.zeros_like(a)\n",
        "for i in range(len(c)):\n",
        "    c[i] = a[i] - b[i]\n",
        "c"
      ],
      "execution_count": 18,
      "outputs": [
        {
          "output_type": "execute_result",
          "data": {
            "text/plain": [
              "array([0, 1, 2])"
            ]
          },
          "metadata": {},
          "execution_count": 18
        }
      ]
    },
    {
      "metadata": {
        "id": "akOu6xtfOyNj"
      },
      "cell_type": "markdown",
      "source": [
        "Dette går mye raskere:"
      ]
    },
    {
      "metadata": {
        "id": "acyabaDOO2EE"
      },
      "cell_type": "code",
      "source": [
        "def dum():\n",
        "    N = int(1E6)\n",
        "    a = np.zeros(N)\n",
        "    b = np.zeros(N)\n",
        "    c = np.zeros(N)\n",
        "    for i in range(N):\n",
        "        a[i] = np.random.uniform()\n",
        "        b[i] = np.random.uniform()\n",
        "        c[i] = a[i] - b[i]\n",
        "\n",
        "def vektorisert():\n",
        "    N = int(1E6)\n",
        "    a = np.random.uniform(size=N)\n",
        "    b = np.random.uniform(size=N)\n",
        "    c = a - b"
      ],
      "execution_count": 24,
      "outputs": []
    },
    {
      "metadata": {
        "id": "H-ZxUP9pParU",
        "outputId": "73811876-93f0-44ab-fbfb-ecd55afaf921",
        "colab": {
          "base_uri": "https://localhost:8080/"
        }
      },
      "cell_type": "code",
      "source": [
        "%timeit dum()"
      ],
      "execution_count": 25,
      "outputs": [
        {
          "output_type": "stream",
          "name": "stdout",
          "text": [
            "1 loop, best of 5: 5.81 s per loop\n"
          ]
        }
      ]
    },
    {
      "metadata": {
        "id": "o4H2SpD8Phfs",
        "outputId": "2d3d61c4-25e4-423c-dd36-bdc67434e1c4",
        "colab": {
          "base_uri": "https://localhost:8080/"
        }
      },
      "cell_type": "code",
      "source": [
        "%timeit vektorisert()"
      ],
      "execution_count": 26,
      "outputs": [
        {
          "output_type": "stream",
          "name": "stdout",
          "text": [
            "10 loops, best of 5: 22.6 ms per loop\n"
          ]
        }
      ]
    },
    {
      "metadata": {
        "id": "q-KMbT_tQztU"
      },
      "cell_type": "markdown",
      "source": [
        "Som vi ser, går den vektoriserte koden mye raskere. I tillegg er koden enklere og mer matematikknær.\n",
        "\n",
        "Moralen er at man alltid bør prøve å erstatte så mange Python-løkker som mulig med vektoriserte numpy-operasjoner."
      ]
    },
    {
      "cell_type": "markdown",
      "source": [
        "### Lennard-Jones-potensialet"
      ],
      "metadata": {
        "id": "hhseWz3vUCG5"
      }
    },
    {
      "cell_type": "code",
      "source": [
        "def LJ_raw(r, sigma=1, epsilon=1):\n",
        "  u = []\n",
        "  for r_ in r:\n",
        "    s6 = (sigma/r_)**6\n",
        "    s12 = s6 * s6\n",
        "    u.append(4 * epsilon * (s12 - s6))\n",
        "  return u\n",
        "\n",
        "def LJ_vec(r, sigma=1, epsilon=1):\n",
        "  s6 = (sigma/r)**6\n",
        "  s12 = s6 * s6\n",
        "  return 4 * epsilon * (s12 - s6)"
      ],
      "metadata": {
        "id": "npyXZeHFUBa8"
      },
      "execution_count": 27,
      "outputs": []
    },
    {
      "cell_type": "code",
      "source": [
        "r = np.linspace(0.95, 3, 100)\n",
        "%timeit u = LJ_raw(r)\n",
        "%timeit u = LJ_vec(r)"
      ],
      "metadata": {
        "id": "wSWwwzPFUi-B",
        "outputId": "6c0f22d7-ab35-49b9-851f-01ee865ebaf9",
        "colab": {
          "base_uri": "https://localhost:8080/"
        }
      },
      "execution_count": 28,
      "outputs": [
        {
          "output_type": "stream",
          "name": "stdout",
          "text": [
            "10000 loops, best of 5: 147 µs per loop\n",
            "The slowest run took 4.26 times longer than the fastest. This could mean that an intermediate result is being cached.\n",
            "100000 loops, best of 5: 13.3 µs per loop\n"
          ]
        }
      ]
    },
    {
      "metadata": {
        "id": "eG5Wwcb8R1c9"
      },
      "cell_type": "markdown",
      "source": [
        "## Parvise operasjoner\n",
        "I MD-prosjektet må vi finne avstandene mellom hvert eneste atompar for å kunne regne ut summen av kreftene på hvert atom. I eksemplene under viser vi flere måter å sammenligne alle elementene i et array mot hverandre, både delvis og fullt vektorisert. For enkelhets skyld opererer vi på et 2D-array, men metodene kan også lett brukes på arrays med flere dimensjoner.\n",
        "\n",
        "\n",
        "### Enkel tilnærming\n",
        "Hvis posisjonene er lagret i `r` som har dimensjon $N \\times 3 $, hvor $N$ er antallet partikler, vil koden typisk se slik ut:\n",
        "```python\n",
        "for i in range(N-1):\n",
        "    for j in range(i+1, N):\n",
        "        dr = r[j] - r[i]\n",
        "```\n",
        "\n",
        "Dette er den mest \"rett frem\"-måten å sammenligne array'ene på, men også den tregeste. Når antallet iterasjoner per loop ($N$) blir stort, vil bare det å loope gjennom løkkene ta en god del tid. Skal man i tillegg gjøre kompliserte beregninger inne i løkkene kan det være en fordel å ha abonnement hos Netflix. Samtidig er det veldig oversiktlig og enkelt å kun behandle ett element om gangen, hvor man har god kontroll på hva som faktisk skjer. Likevel, \n",
        "\n",
        "\n",
        " - +Lett å forstå hva som skjer.\n",
        " - +Trenger kun ett element i minnet om gangen.\n",
        " - -Kan bli en del kode.\n",
        " - -*Ekstremt* tregt.\n",
        "\n",
        "### Vektorisert utregning\n",
        "Alle avstandsvektorene til naboene til atom $i$ kan regnes ut på én gang med\n",
        "```python\n",
        "for i in range(N):\n",
        "    drs = r - r[i]\n",
        "```\n",
        "og kreftene kan regnes ut fra disse. OBS: `drs[i]` vil være $\\vec{0}$. Vil man unngå disse $\\vec{0}$-vektorene kan enten fjerne dette elementet i etterkant, eller indeksere direkte med \" `r[np.arange(N)!=i] - r[i]` \".\n",
        "\n",
        "Ved å vektorisere på denne måten kan man forsatt ta i bruk \"Newtons 3. lov\" (avstanden $r_{ij} = - r_{ji}$), men da trenger man også et ($N \\times N \\times 3$)-array utenfor hvor man kan sette inn de aktuelle avstandene.\n",
        "\n",
        "```python\n",
        "for i in range(N):\n",
        "    drs = r[i+1:] - r[i]\n",
        "    dr_matr[i, i+1:] = drs\n",
        "    dr_matr[i+1: i] = -drs\n",
        "```\n",
        "\n",
        "\n",
        "- +Fjerner én for-løkke.\n",
        "- +Forholdsvis rett frem for flerdimensjonale arrays.\n",
        "- -Fortsatt én for-løkke.\n",
        "- -Kryptisk indeksering.\n",
        "\n",
        "### Ekstremvektorisering\n",
        "*Broadcasting* kan brukes til å regne ut avstandene mellom atomene helt uten for-løkker. Se på dette eksemplet:"
      ]
    },
    {
      "metadata": {
        "id": "BoIc1oL5O8uE",
        "outputId": "4b6983f4-a7c6-4bd0-8409-3a5c0724100a",
        "colab": {
          "base_uri": "https://localhost:8080/"
        }
      },
      "cell_type": "code",
      "source": [
        "x1 = np.array([1,2,3])\n",
        "x2 = x1.reshape(-1,1)\n",
        "print(x1, \"\\n\", x2)"
      ],
      "execution_count": null,
      "outputs": [
        {
          "output_type": "stream",
          "name": "stdout",
          "text": [
            "[1 2 3] \n",
            " [[1]\n",
            " [2]\n",
            " [3]]\n"
          ]
        }
      ]
    },
    {
      "metadata": {
        "id": "zdYrNXRzPUPV",
        "outputId": "f14850fa-4370-4602-8335-f1f46805c97a",
        "colab": {
          "base_uri": "https://localhost:8080/"
        }
      },
      "cell_type": "code",
      "source": [
        "x1 - x2"
      ],
      "execution_count": null,
      "outputs": [
        {
          "output_type": "execute_result",
          "data": {
            "text/plain": [
              "array([[ 0,  1,  2],\n",
              "       [-1,  0,  1],\n",
              "       [-2, -1,  0]])"
            ]
          },
          "metadata": {},
          "execution_count": 13
        }
      ]
    },
    {
      "metadata": {
        "id": "ktP0SPtzPWvl"
      },
      "cell_type": "markdown",
      "source": [
        "Vi ser at når en kolonevektor trekkes fra en radvektor, blir resultatet en matrise hvor første rad er radvektoren minus første element i kolonnevektoren etc. Dette kan brukes til å regne ut alle innbyrdes avstande, uten en eneste for-løkke.\n",
        "\n",
        "- +Ingen for-løkker.\n",
        "- +Raskest.\n",
        "- -Ingen Newtons 3. lov.\n",
        "- -Krever $N^2$ elementer i minnet - begrenser systemstørrelse.\n",
        "- Grisete, lite intuitiv kode for flerdimensjonale arrays."
      ]
    },
    {
      "cell_type": "markdown",
      "source": [
        "### Tre nyttige NumPy-funksjoner\n",
        "NumPy inneholder en lang rekke nyttige funksjoner for både lineær algebra og filbehandling som støtter vektorisering. \n",
        "\n",
        "#### `np.round`\n",
        "`np.round` runder alle elementer i en array til nærmeste heltall. Denne kommer til å være ekstremt nyttig når periodiske randbetingelser skal implementeres. I en dimensjon:\n",
        "\n",
        "```python\n",
        "dx = dx - np.round(dx/L) * L\n",
        "```\n",
        "Fungerer også i flere dimensjoner.\n",
        "Riktige posisjoner kan effektivt finens ved å bruke modulus:\n",
        "``` python\n",
        "x = (x+L) % L\n",
        "```\n",
        "\n",
        "#### `np.savetxt`\n",
        "`np.savetxt` skriver NumPy arrayer til tekstfil. Denne kan være nyttig når man skal dumpe posisjoner til xyz-fil. \n",
        "\n",
        "``` python\n",
        "N = len(x)\n",
        "data = np.column_stack([N * ['Ar'], x*])\n",
        "np.savetxt(\"pos.xyz\", data, header=f\"{N}\\n\", fmt=\"%s\", comments=\"\")\n",
        "```\n",
        "Det er ikke noe i veien for å skrive sin egen funksjon for dette. Kan bruke `np.loadtxt` til å lese tilsvarende filer.\n",
        "\n",
        "#### `np.einsum`\n",
        "`np.einsum` er en funksjon som gjør Einstein-summasjon på NumPy arrayer. Reglene er som følger:\n",
        "\n",
        "- Doble indekser skal multipliseres (to like indekser separert av komma)\n",
        "- Pil peker på de indeksene som skal bevares\n",
        "- Indekser som ikke skal bevares summeres\n",
        "\n",
        "Denne funksjonen er kapabel til å gjøre all de mest kjente operasjonene i lineær algebra. Den er også veldig rask, på høyde eller raskere enn de spesialiserte funksjonene. Noen eksempler:\n",
        "\n",
        "\n",
        "Summe over akse 0:\n",
        "``` python\n",
        "np.einsum('ij->j', A)\n",
        "np.sum(a, axis=0) # ekvivalent\n",
        "```\n",
        "\n",
        "Transponere:\n",
        "``` python\n",
        "np.einsum('ij->ji', A)\n",
        "a.T # ekvivalent\n",
        "```\n",
        "\n",
        "Indreprodukt:\n",
        "``` python\n",
        "np.einsum('i,i', a, b)\n",
        "np.inner(a,b) # ekvivalent\n",
        "```\n",
        "\n",
        "Matrise-vektor produkt:\n",
        "``` python\n",
        "np.einsum('ij,j', A, b)\n",
        "np.dot(A, b)\n",
        "```\n",
        "\n",
        "Trace (sum av diagonal):\n",
        "``` python\n",
        "np.einsum('ii', A)\n",
        "```\n",
        "\n",
        "Diagonalelementer:\n",
        "``` python\n",
        "np.einsum('ii->i', A)\n",
        "```"
      ],
      "metadata": {
        "id": "39JNYk-ZrKeR"
      }
    },
    {
      "metadata": {
        "id": "aKaWQAH1IkBr"
      },
      "cell_type": "markdown",
      "source": [
        "## Andre alternativer\n",
        "### Numba\n",
        "Numba er en Python-pakke som oversetter Python-kode til LLVM-kode og kompilerer den. Resultatet er at Python-koden kan gå nesten like raskt som de kompilerte språkene.\n",
        "\n",
        "Eksempel:"
      ]
    },
    {
      "metadata": {
        "id": "oarN2kBtJD6M"
      },
      "cell_type": "code",
      "source": [
        "import numba\n",
        "\n",
        "@numba.njit\n",
        "def K_numba(v):\n",
        "    K = 0\n",
        "    N = len(v)\n",
        "    for i in range(N):\n",
        "        for j in range(3):\n",
        "            K += v[i,j]**2\n",
        "    return 0.5*K\n",
        "\n",
        "def K_dum(v):\n",
        "    K = 0\n",
        "    N = len(v)\n",
        "    for i in range(N):\n",
        "        for j in range(3):\n",
        "            K += v[i,j]**2\n",
        "    return 0.5*K\n",
        "\n",
        "def K_numpy(v):\n",
        "    return 0.5*np.sum(v**2)"
      ],
      "execution_count": null,
      "outputs": []
    },
    {
      "metadata": {
        "id": "dIteMBLAJ3LU"
      },
      "cell_type": "code",
      "source": [
        "N = int(1E7)\n",
        "v = np.random.normal(size=(N,3))"
      ],
      "execution_count": null,
      "outputs": []
    },
    {
      "metadata": {
        "id": "_r2H3VH8J-c1",
        "outputId": "6e379dae-a03f-4cfa-a1ba-ade73189bccc",
        "colab": {
          "base_uri": "https://localhost:8080/",
          "height": 35
        }
      },
      "cell_type": "code",
      "source": [
        "%timeit K_numba(v)"
      ],
      "execution_count": null,
      "outputs": [
        {
          "output_type": "stream",
          "text": [
            "10 loops, best of 3: 46.8 ms per loop\n"
          ],
          "name": "stdout"
        }
      ]
    },
    {
      "metadata": {
        "id": "dPiy8hZyKBiE",
        "outputId": "a5c2362f-2679-4f3b-ee72-ce490ed599fc",
        "colab": {
          "base_uri": "https://localhost:8080/",
          "height": 35
        }
      },
      "cell_type": "code",
      "source": [
        "%timeit K_dum(v)"
      ],
      "execution_count": null,
      "outputs": [
        {
          "output_type": "stream",
          "text": [
            "1 loop, best of 3: 16.5 s per loop\n"
          ],
          "name": "stdout"
        }
      ]
    },
    {
      "metadata": {
        "id": "-3k3qb-YL1RG",
        "outputId": "727a75c6-bf0e-4fe8-eda3-b4191f19d440",
        "colab": {
          "base_uri": "https://localhost:8080/",
          "height": 35
        }
      },
      "cell_type": "code",
      "source": [
        "%timeit K_numpy(v)"
      ],
      "execution_count": null,
      "outputs": [
        {
          "output_type": "stream",
          "text": [
            "10 loops, best of 3: 97.5 ms per loop\n"
          ],
          "name": "stdout"
        }
      ]
    },
    {
      "metadata": {
        "id": "0J5OOeFdMITm"
      },
      "cell_type": "markdown",
      "source": [
        "Her ser vi at én numpy-operasjon kan være raskere enn numba. Her var vi dog heldige med at numpy har en funksjon som gjør akkurat det vi vil. I de fleste tilfeller vil numba være raskere, selv med mer intuitiv kode.\n",
        "\n",
        "Ved bruk av numba er det viktig å bare bruke tall og numpy-arrayer.  Ved å bruke `njit` (i stedet for `jit`) sjekker numba at dette er oppfylt."
      ]
    },
    {
      "metadata": {
        "id": "eomZ4vZ9M9lu"
      },
      "cell_type": "markdown",
      "source": [
        "### Fortran\n",
        "Det er enkelt å kalle på Fortran-kode som gjør den tyngste delen av utregningen.\n",
        "\n",
        "Gitt følgende fil:"
      ]
    },
    {
      "metadata": {
        "id": "RbUTVvzlNoAX",
        "outputId": "b54b2d13-57b4-49ff-841b-cbcb1bff56c0",
        "colab": {
          "base_uri": "https://localhost:8080/",
          "height": 35
        }
      },
      "cell_type": "code",
      "source": [
        "%%file k_fortran.f90\n",
        "function K_fortran(v, N) result(K)\n",
        "    ! Argumenter\n",
        "    integer, intent(in) :: N\n",
        "    double precision, intent(in) :: v(N, 3)\n",
        "        \n",
        "    ! Returverdi\n",
        "    double precision :: K\n",
        "    \n",
        "    K = 0.5*sum(v**2)\n",
        "end function"
      ],
      "execution_count": null,
      "outputs": [
        {
          "output_type": "stream",
          "text": [
            "Overwriting k_fortran.f90\n"
          ],
          "name": "stdout"
        }
      ]
    },
    {
      "metadata": {
        "id": "DscNkNVCOI_A"
      },
      "cell_type": "markdown",
      "source": [
        "Denne kan kompileres til en python-modul med terminalkommandoen"
      ]
    },
    {
      "metadata": {
        "id": "1LlYLXGgOP5H"
      },
      "cell_type": "code",
      "source": [
        "! f2py3 -c -m fortran_modul k_fortran.f90 > /dev/null"
      ],
      "execution_count": null,
      "outputs": []
    },
    {
      "metadata": {
        "id": "o3WHspsYObzf"
      },
      "cell_type": "markdown",
      "source": [
        "Modulen kan så importeres og kjøres:"
      ]
    },
    {
      "metadata": {
        "id": "BxnhU2IMtagR"
      },
      "cell_type": "code",
      "source": [
        "from fortran_modul import k_fortran\n",
        "\n",
        "v = np.asarray(v, order=\"F\") # Fortran-minne-ordning"
      ],
      "execution_count": null,
      "outputs": []
    },
    {
      "metadata": {
        "id": "qA1zZATCtgjR",
        "outputId": "a514f58a-850b-462b-b592-0c9ec9fe6da4",
        "colab": {
          "base_uri": "https://localhost:8080/",
          "height": 35
        }
      },
      "cell_type": "code",
      "source": [
        "%timeit k_fortran(v, N)"
      ],
      "execution_count": null,
      "outputs": [
        {
          "output_type": "stream",
          "text": [
            "10 loops, best of 3: 53.1 ms per loop\n"
          ],
          "name": "stdout"
        }
      ]
    }
  ]
}