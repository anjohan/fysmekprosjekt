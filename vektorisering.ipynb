{
  "nbformat": 4,
  "nbformat_minor": 0,
  "metadata": {
    "colab": {
      "name": "vektorisering.ipynb",
      "version": "0.3.2",
      "provenance": [],
      "collapsed_sections": [],
      "include_colab_link": true
    },
    "kernelspec": {
      "name": "python3",
      "display_name": "Python 3"
    }
  },
  "cells": [
    {
      "cell_type": "markdown",
      "metadata": {
        "id": "view-in-github",
        "colab_type": "text"
      },
      "source": [
        "<a href=\"https://colab.research.google.com/github/uio-fys-mek/md-prosjekt/blob/master/vektorisering.ipynb\" target=\"_parent\"><img src=\"https://colab.research.google.com/assets/colab-badge.svg\" alt=\"Open In Colab\"/></a>"
      ]
    },
    {
      "metadata": {
        "id": "J-vsaCRLOB7j",
        "colab_type": "code",
        "colab": {}
      },
      "cell_type": "code",
      "source": [
        "import numpy as np"
      ],
      "execution_count": 0,
      "outputs": []
    },
    {
      "metadata": {
        "id": "ujxTxRySLl1C",
        "colab_type": "text"
      },
      "cell_type": "markdown",
      "source": [
        "# Vektorisering"
      ]
    },
    {
      "metadata": {
        "id": "3WeHrLwoM0AN",
        "colab_type": "text"
      },
      "cell_type": "markdown",
      "source": [
        "Når vi snakker om *vektorisering* i Python mener vi egentlig å utnytte funksjonaliteter og vektoroperasjoner i Python-pakken `numpy`. Numpy er en pakke som er skrevet i C/C++ og delvis Fortran - lavnivåspråk som generelt er mye raskere enn høynivåspråk som f.eks. Python. Dette gjør seg virkelig gjeldende i essensielle funksjonaliteter som for- og while-løkker. For eksempel vil en for-løkke i C/C++ gå 100 ganger (!) raskere enn en for-løkke i Python."
      ]
    },
    {
      "metadata": {
        "id": "9yF6pa0QNeoC",
        "colab_type": "text"
      },
      "cell_type": "markdown",
      "source": [
        "## Enkelt eksempel\n",
        "Det som er fint med numpy-biblioteket er at vektoroperasjoner som gjøres på numpy-arrays vil kalle på funksjonaliteter skrevet i nettopp disse lavnivå språkene. På denne måten drar man fordelene av hastighetene til disse, samtidig som man beholder en ren og kort python-syntax. Dette lar oss tilsynelatende gjøre operasjoner på *hele arrays* om gangen i python-scriptene våre.\n",
        "\n",
        "Enkelt eksempel:\n"
      ]
    },
    {
      "metadata": {
        "id": "2jr2SF_mOTdk",
        "colab_type": "code",
        "outputId": "bde69673-9f5e-424a-a4c6-562a1be56971",
        "colab": {
          "base_uri": "https://localhost:8080/",
          "height": 35
        }
      },
      "cell_type": "code",
      "source": [
        "a = np.array([1,2,3])\n",
        "b = np.array([1,1,1])\n",
        "c = a - b\n",
        "c"
      ],
      "execution_count": 90,
      "outputs": [
        {
          "output_type": "execute_result",
          "data": {
            "text/plain": [
              "array([0, 1, 2])"
            ]
          },
          "metadata": {
            "tags": []
          },
          "execution_count": 90
        }
      ]
    },
    {
      "metadata": {
        "id": "1O2XA2t6OdgL",
        "colab_type": "text"
      },
      "cell_type": "markdown",
      "source": [
        "Dette oversettes til C/Fortran-kode som tilsvarer"
      ]
    },
    {
      "metadata": {
        "id": "NLd_P8enOhML",
        "colab_type": "code",
        "outputId": "52114294-7a2b-4fd8-882f-fb06026808c9",
        "colab": {
          "base_uri": "https://localhost:8080/",
          "height": 35
        }
      },
      "cell_type": "code",
      "source": [
        "c = np.zeros_like(a)\n",
        "for i in range(len(c)):\n",
        "    c[i] = a[i] - b[i]\n",
        "c"
      ],
      "execution_count": 91,
      "outputs": [
        {
          "output_type": "execute_result",
          "data": {
            "text/plain": [
              "array([0, 1, 2])"
            ]
          },
          "metadata": {
            "tags": []
          },
          "execution_count": 91
        }
      ]
    },
    {
      "metadata": {
        "id": "akOu6xtfOyNj",
        "colab_type": "text"
      },
      "cell_type": "markdown",
      "source": [
        "Dette går mye raskere:"
      ]
    },
    {
      "metadata": {
        "id": "acyabaDOO2EE",
        "colab_type": "code",
        "colab": {}
      },
      "cell_type": "code",
      "source": [
        "def dum():\n",
        "    N = int(1E6)\n",
        "    a = np.zeros(N)\n",
        "    b = np.zeros(N)\n",
        "    c = np.zeros(N)\n",
        "    for i in range(N):\n",
        "        a[i] = np.random.uniform()\n",
        "        b[i] = np.random.uniform()\n",
        "        c[i] = a[i] - b[i]\n",
        "\n",
        "def vektorisert():\n",
        "    N = int(1E6)\n",
        "    a = np.random.uniform(size=N)\n",
        "    b = np.random.uniform(size=N)\n",
        "    c = a - b"
      ],
      "execution_count": 0,
      "outputs": []
    },
    {
      "metadata": {
        "id": "H-ZxUP9pParU",
        "colab_type": "code",
        "outputId": "64cabf88-17d5-4f4f-8f7a-34a71a7c3f38",
        "colab": {
          "base_uri": "https://localhost:8080/",
          "height": 35
        }
      },
      "cell_type": "code",
      "source": [
        "%timeit dum()"
      ],
      "execution_count": 93,
      "outputs": [
        {
          "output_type": "stream",
          "text": [
            "1 loop, best of 3: 2.05 s per loop\n"
          ],
          "name": "stdout"
        }
      ]
    },
    {
      "metadata": {
        "id": "o4H2SpD8Phfs",
        "colab_type": "code",
        "outputId": "04a767e5-2cb2-49bc-ce93-f85c9a0322bf",
        "colab": {
          "base_uri": "https://localhost:8080/",
          "height": 35
        }
      },
      "cell_type": "code",
      "source": [
        "%timeit vektorisert()"
      ],
      "execution_count": 94,
      "outputs": [
        {
          "output_type": "stream",
          "text": [
            "10 loops, best of 3: 33.1 ms per loop\n"
          ],
          "name": "stdout"
        }
      ]
    },
    {
      "metadata": {
        "id": "q-KMbT_tQztU",
        "colab_type": "text"
      },
      "cell_type": "markdown",
      "source": [
        "Som vi ser, går den vektoriserte koden mye raskere. I tillegg er koden enklere og mer matematikknær.\n",
        "\n",
        "Moralen er at man alltid bør prøve å erstatte så mange Python-løkker som mulig med vektoriserte numpy-operasjoner."
      ]
    },
    {
      "metadata": {
        "id": "eG5Wwcb8R1c9",
        "colab_type": "text"
      },
      "cell_type": "markdown",
      "source": [
        "## Parvise operasjoner\n",
        "I Grand Challenge må vi finne avstandene mellom hvert eneste atompar for å kunne regne ut summen av kreftene på hvert atom. I eksemplene under viser vi flere måter å sammenligne alle elementene i et array mot hverandre, både delvis og fullt vektorisert. For enkelhets skyld opererer vi på et 1D-array, men metodene kan også lett brukes på arrays med flere dimensjoner.\n",
        "\n",
        "\n",
        "### Enkel tilnærming\n",
        "Hvis posisjonene er lagret i `r` som har dimensjon $N \\times 3 $, hvor $N$ er antallet partikler, vil koden typisk se slik ut:\n",
        "```python\n",
        "for i in range(N-1):\n",
        "    for j in range(i+1, N):\n",
        "        dr = r[j] - r[i]\n",
        "```\n",
        "\n",
        "Dette er den mest \"rett frem\"-måten å sammenligne array'ene på, men også den tregeste. Når antallet iterasjoner per loop ($N$) blir stort, vil bare det å loope gjennom løkkene ta en god del tid. Skal man i tillegg gjøre kompliserte beregninger inne i løkkene kan det være en fordel å ha abonnement hos Netflix. Samtidig er det veldig oversiktlig og enkelt å kun behandle ett element om gangen, hvor man har god kontroll på hva som faktisk skjer. Likevel, \n",
        "\n",
        "\n",
        " - +Lett å forstå hva som skjer.\n",
        " - +Trenger kun ett element i minnet om gangen.\n",
        " - -Kan bli en del kode.\n",
        " - -*Ekstremt* tregt.\n",
        "\n",
        "### Vektorisert utregning\n",
        "Alle avstandsvektorene til naboene til atom $i$ kan regnes ut på én gang med\n",
        "```python\n",
        "for i in range(N):\n",
        "    drs = r - r[i]\n",
        "```\n",
        "og kreftene kan regnes ut fra disse. OBS: `drs[i]` vil være $\\vec{0}$.\n",
        "- +Fjerner én for-løkke.\n",
        "- +Forholdsvis rett frem for flerdimensjonale arrays.\n",
        "- -Fortsatt én for-løkke.\n",
        "\n",
        "### Ekstremvektorisering\n",
        "*Broadcasting* kan brukes til å regne ut avstandene mellom atomene helt uten for-løkker. Se på dette eksemplet:"
      ]
    },
    {
      "metadata": {
        "id": "BoIc1oL5O8uE",
        "colab_type": "code",
        "outputId": "3f47cef2-43ca-4bd0-ed21-1afb44d45956",
        "colab": {
          "base_uri": "https://localhost:8080/",
          "height": 91
        }
      },
      "cell_type": "code",
      "source": [
        "x1 = np.array([1,2,3])\n",
        "x2 = x1.reshape(-1,1)\n",
        "print(x1, \"\\n\", x2)"
      ],
      "execution_count": 95,
      "outputs": [
        {
          "output_type": "stream",
          "text": [
            "[1 2 3] \n",
            " [[1]\n",
            " [2]\n",
            " [3]]\n"
          ],
          "name": "stdout"
        }
      ]
    },
    {
      "metadata": {
        "id": "zdYrNXRzPUPV",
        "colab_type": "code",
        "outputId": "e3cc0442-e949-465a-fad1-ccaa36b14d05",
        "colab": {
          "base_uri": "https://localhost:8080/",
          "height": 72
        }
      },
      "cell_type": "code",
      "source": [
        "x1 - x2"
      ],
      "execution_count": 96,
      "outputs": [
        {
          "output_type": "execute_result",
          "data": {
            "text/plain": [
              "array([[ 0,  1,  2],\n",
              "       [-1,  0,  1],\n",
              "       [-2, -1,  0]])"
            ]
          },
          "metadata": {
            "tags": []
          },
          "execution_count": 96
        }
      ]
    },
    {
      "metadata": {
        "id": "ktP0SPtzPWvl",
        "colab_type": "text"
      },
      "cell_type": "markdown",
      "source": [
        "Vi ser at når en kolonevektor trekkes fra en radvektor, blir resultatet en matrise hvor første rad er radvektoren minus første element i kolonnevektoren etc. Dette kan brukes til å regne ut alle innbyrdes avstander, uten en eneste for-løkke.\n",
        "\n",
        "- +Ingen for-løkker.\n",
        "- +Raskest (?).\n",
        "- -Ingen Newtons 3. lov.\n",
        "- -Krever $N^2$ elementer i minnet - begrenser systemstørrelse.\n",
        "- Grisete, lite intuitiv kode."
      ]
    },
    {
      "metadata": {
        "id": "aKaWQAH1IkBr",
        "colab_type": "text"
      },
      "cell_type": "markdown",
      "source": [
        "## Andre alternativer\n",
        "### Numba\n",
        "Numba er en Python-pakke som oversetter Python-kode til LLVM-kode og kompilerer den. Resultatet er at Python-koden kan gå omtrent like raskt som de kompilerte språkene.\n",
        "\n",
        "Eksempel:"
      ]
    },
    {
      "metadata": {
        "id": "oarN2kBtJD6M",
        "colab_type": "code",
        "colab": {}
      },
      "cell_type": "code",
      "source": [
        "import numba\n",
        "\n",
        "@numba.njit\n",
        "def K_numba(v):\n",
        "    K = 0\n",
        "    N = len(v)\n",
        "    for i in range(N):\n",
        "        for j in range(3):\n",
        "            K += v[i,j]**2\n",
        "    return 0.5*K\n",
        "\n",
        "def K_dum(v):\n",
        "    K = 0\n",
        "    N = len(v)\n",
        "    for i in range(N):\n",
        "        for j in range(3):\n",
        "            K += v[i,j]**2\n",
        "    return 0.5*K\n",
        "\n",
        "def K_numpy(v):\n",
        "    return 0.5*np.sum(v**2)"
      ],
      "execution_count": 0,
      "outputs": []
    },
    {
      "metadata": {
        "id": "dIteMBLAJ3LU",
        "colab_type": "code",
        "colab": {}
      },
      "cell_type": "code",
      "source": [
        "N = int(1E7)\n",
        "v = np.random.normal(size=(N,3))"
      ],
      "execution_count": 0,
      "outputs": []
    },
    {
      "metadata": {
        "id": "_r2H3VH8J-c1",
        "colab_type": "code",
        "colab": {
          "base_uri": "https://localhost:8080/",
          "height": 35
        },
        "outputId": "c45ba8a5-5975-470c-8d1e-1e9bbe486b2c"
      },
      "cell_type": "code",
      "source": [
        "%timeit K_numba(v)"
      ],
      "execution_count": 99,
      "outputs": [
        {
          "output_type": "stream",
          "text": [
            "10 loops, best of 3: 53.7 ms per loop\n"
          ],
          "name": "stdout"
        }
      ]
    },
    {
      "metadata": {
        "id": "dPiy8hZyKBiE",
        "colab_type": "code",
        "colab": {
          "base_uri": "https://localhost:8080/",
          "height": 35
        },
        "outputId": "bdc9c321-cbcf-402a-b488-81dc37690f9d"
      },
      "cell_type": "code",
      "source": [
        "%timeit K_dum(v)"
      ],
      "execution_count": 100,
      "outputs": [
        {
          "output_type": "stream",
          "text": [
            "1 loop, best of 3: 16.5 s per loop\n"
          ],
          "name": "stdout"
        }
      ]
    },
    {
      "metadata": {
        "id": "-3k3qb-YL1RG",
        "colab_type": "code",
        "colab": {
          "base_uri": "https://localhost:8080/",
          "height": 35
        },
        "outputId": "d31799b0-e86b-4d80-f890-7048ceb2f2d2"
      },
      "cell_type": "code",
      "source": [
        "%timeit K_numpy(v)"
      ],
      "execution_count": 101,
      "outputs": [
        {
          "output_type": "stream",
          "text": [
            "10 loops, best of 3: 97.6 ms per loop\n"
          ],
          "name": "stdout"
        }
      ]
    },
    {
      "metadata": {
        "id": "0J5OOeFdMITm",
        "colab_type": "text"
      },
      "cell_type": "markdown",
      "source": [
        "Ved bruk av numba er det viktig å bare bruke tall og numpy-arrayer.  Ved å bruke `njit` (i stedet for `jit`) sjekker numba at dette er oppfylt!"
      ]
    },
    {
      "metadata": {
        "id": "eomZ4vZ9M9lu",
        "colab_type": "text"
      },
      "cell_type": "markdown",
      "source": [
        "### Fortran\n",
        "Det er enkelt å kalle på Fortran-kode som gjør den tyngste delen av utregningen.\n",
        "\n",
        "Gitt følgende fil:"
      ]
    },
    {
      "metadata": {
        "id": "RbUTVvzlNoAX",
        "colab_type": "code",
        "colab": {
          "base_uri": "https://localhost:8080/",
          "height": 35
        },
        "outputId": "ed3d2f52-dd2a-4c4c-a439-a95c0fbfafac"
      },
      "cell_type": "code",
      "source": [
        "%%file k_fortran.f90\n",
        "function k_fortran(v, N) result(K)\n",
        "    ! Argumenter\n",
        "    integer, intent(in) :: N\n",
        "    double precision, intent(in) :: v(N, 3)\n",
        "    \n",
        "    ! Returverdi\n",
        "    double precision :: K\n",
        "    \n",
        "    K = 0.5*sum(v**2)\n",
        "end function"
      ],
      "execution_count": 102,
      "outputs": [
        {
          "output_type": "stream",
          "text": [
            "Overwriting k_fortran.f90\n"
          ],
          "name": "stdout"
        }
      ]
    },
    {
      "metadata": {
        "id": "DscNkNVCOI_A",
        "colab_type": "text"
      },
      "cell_type": "markdown",
      "source": [
        "Denne kan kompileres til en python-modul med terminalkommandoen (`> /dev/null` skjuler output)"
      ]
    },
    {
      "metadata": {
        "id": "1LlYLXGgOP5H",
        "colab_type": "code",
        "colab": {}
      },
      "cell_type": "code",
      "source": [
        "! f2py3 -c -m fortran_module k_fortran.f90 > /dev/null"
      ],
      "execution_count": 0,
      "outputs": []
    },
    {
      "metadata": {
        "id": "o3WHspsYObzf",
        "colab_type": "text"
      },
      "cell_type": "markdown",
      "source": [
        "Modulen kan så importeres og kjøres:"
      ]
    },
    {
      "metadata": {
        "id": "zf-7lsAyjgTy",
        "colab_type": "code",
        "colab": {}
      },
      "cell_type": "code",
      "source": [
        "import fortran_module\n",
        "\n",
        "v = np.asarray(v, order=\"F\") # Fortran-minne-ordning for å slippe kopier"
      ],
      "execution_count": 0,
      "outputs": []
    },
    {
      "metadata": {
        "id": "yXCNnRkQj97C",
        "colab_type": "code",
        "colab": {
          "base_uri": "https://localhost:8080/",
          "height": 35
        },
        "outputId": "925add26-6a54-44b3-eef8-938ec551b849"
      },
      "cell_type": "code",
      "source": [
        "%timeit fortran_module.k_fortran(v, N)"
      ],
      "execution_count": 106,
      "outputs": [
        {
          "output_type": "stream",
          "text": [
            "10 loops, best of 3: 53.2 ms per loop\n"
          ],
          "name": "stdout"
        }
      ]
    }
  ]
}